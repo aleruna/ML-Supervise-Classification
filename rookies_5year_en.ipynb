{
 "cells": [
  {
   "cell_type": "code",
   "execution_count": 3,
   "id": "549ddf64",
   "metadata": {},
   "outputs": [],
   "source": [
    "import numpy as np\n",
    "import pandas as pd\n",
    "import matplotlib.pyplot as plt\n",
    "import seaborn as sns\n",
    "#Liberias para la parte de metodologia\n",
    "from sklearn.metrics import accuracy_score, confusion_matrix, classification_report\n",
    "from sklearn.neighbors import KNeighborsClassifier\n",
    "from sklearn.model_selection import train_test_split\n",
    "from sklearn.metrics import accuracy_score\n",
    "from sklearn.preprocessing import StandardScaler\n",
    "from sklearn.model_selection import train_test_split\n",
    "from sklearn.metrics import recall_score\n",
    "from sklearn.metrics import precision_score\n",
    "from sklearn.metrics import f1_score"
   ]
  },
  {
   "cell_type": "markdown",
   "id": "b7074f10",
   "metadata": {},
   "source": [
    "<link rel=\"stylesheet\" href='dhds.css'>\n",
    "<div class=\"Heading\">\n",
    "    <h1 align=\"center\"> Sports Analytic </h1>\n",
    "    <h2 align=\"center\"> Machine Learning Supervise Classification </h2>\n",
    "</div>"
   ]
  },
  {
   "cell_type": "code",
   "execution_count": 4,
   "id": "0561774d",
   "metadata": {},
   "outputs": [],
   "source": [
    "df=pd.read_csv('nba_logreg.csv')"
   ]
  },
  {
   "cell_type": "code",
   "execution_count": 5,
   "id": "18300b62",
   "metadata": {},
   "outputs": [
    {
     "data": {
      "text/html": [
       "<div>\n",
       "<style scoped>\n",
       "    .dataframe tbody tr th:only-of-type {\n",
       "        vertical-align: middle;\n",
       "    }\n",
       "\n",
       "    .dataframe tbody tr th {\n",
       "        vertical-align: top;\n",
       "    }\n",
       "\n",
       "    .dataframe thead th {\n",
       "        text-align: right;\n",
       "    }\n",
       "</style>\n",
       "<table border=\"1\" class=\"dataframe\">\n",
       "  <thead>\n",
       "    <tr style=\"text-align: right;\">\n",
       "      <th></th>\n",
       "      <th>name</th>\n",
       "      <th>gp</th>\n",
       "      <th>min</th>\n",
       "      <th>pts</th>\n",
       "      <th>fgm</th>\n",
       "      <th>fga</th>\n",
       "      <th>fg</th>\n",
       "      <th>3p_made</th>\n",
       "      <th>3pa</th>\n",
       "      <th>3p</th>\n",
       "      <th>...</th>\n",
       "      <th>fta</th>\n",
       "      <th>ft</th>\n",
       "      <th>oreb</th>\n",
       "      <th>dreb</th>\n",
       "      <th>reb</th>\n",
       "      <th>ast</th>\n",
       "      <th>stl</th>\n",
       "      <th>blk</th>\n",
       "      <th>tov</th>\n",
       "      <th>target_5yrs</th>\n",
       "    </tr>\n",
       "  </thead>\n",
       "  <tbody>\n",
       "    <tr>\n",
       "      <th>0</th>\n",
       "      <td>Brandon Ingram</td>\n",
       "      <td>36</td>\n",
       "      <td>27.4</td>\n",
       "      <td>7.4</td>\n",
       "      <td>2.6</td>\n",
       "      <td>7.6</td>\n",
       "      <td>34.7</td>\n",
       "      <td>0.5</td>\n",
       "      <td>2.1</td>\n",
       "      <td>25.0</td>\n",
       "      <td>...</td>\n",
       "      <td>2.3</td>\n",
       "      <td>69.9</td>\n",
       "      <td>0.7</td>\n",
       "      <td>3.4</td>\n",
       "      <td>4.1</td>\n",
       "      <td>1.9</td>\n",
       "      <td>0.4</td>\n",
       "      <td>0.4</td>\n",
       "      <td>1.3</td>\n",
       "      <td>0.0</td>\n",
       "    </tr>\n",
       "    <tr>\n",
       "      <th>1</th>\n",
       "      <td>Andrew Harrison</td>\n",
       "      <td>35</td>\n",
       "      <td>26.9</td>\n",
       "      <td>7.2</td>\n",
       "      <td>2.0</td>\n",
       "      <td>6.7</td>\n",
       "      <td>29.6</td>\n",
       "      <td>0.7</td>\n",
       "      <td>2.8</td>\n",
       "      <td>23.5</td>\n",
       "      <td>...</td>\n",
       "      <td>3.4</td>\n",
       "      <td>76.5</td>\n",
       "      <td>0.5</td>\n",
       "      <td>2.0</td>\n",
       "      <td>2.4</td>\n",
       "      <td>3.7</td>\n",
       "      <td>1.1</td>\n",
       "      <td>0.5</td>\n",
       "      <td>1.6</td>\n",
       "      <td>0.0</td>\n",
       "    </tr>\n",
       "    <tr>\n",
       "      <th>2</th>\n",
       "      <td>JaKarr Sampson</td>\n",
       "      <td>74</td>\n",
       "      <td>15.3</td>\n",
       "      <td>5.2</td>\n",
       "      <td>2.0</td>\n",
       "      <td>4.7</td>\n",
       "      <td>42.2</td>\n",
       "      <td>0.4</td>\n",
       "      <td>1.7</td>\n",
       "      <td>24.4</td>\n",
       "      <td>...</td>\n",
       "      <td>1.3</td>\n",
       "      <td>67.0</td>\n",
       "      <td>0.5</td>\n",
       "      <td>1.7</td>\n",
       "      <td>2.2</td>\n",
       "      <td>1.0</td>\n",
       "      <td>0.5</td>\n",
       "      <td>0.3</td>\n",
       "      <td>1.0</td>\n",
       "      <td>0.0</td>\n",
       "    </tr>\n",
       "  </tbody>\n",
       "</table>\n",
       "<p>3 rows × 21 columns</p>\n",
       "</div>"
      ],
      "text/plain": [
       "              name  gp   min  pts  fgm  fga    fg  3p_made  3pa    3p  ...  \\\n",
       "0   Brandon Ingram  36  27.4  7.4  2.6  7.6  34.7      0.5  2.1  25.0  ...   \n",
       "1  Andrew Harrison  35  26.9  7.2  2.0  6.7  29.6      0.7  2.8  23.5  ...   \n",
       "2   JaKarr Sampson  74  15.3  5.2  2.0  4.7  42.2      0.4  1.7  24.4  ...   \n",
       "\n",
       "   fta    ft  oreb  dreb  reb  ast  stl  blk  tov  target_5yrs  \n",
       "0  2.3  69.9   0.7   3.4  4.1  1.9  0.4  0.4  1.3          0.0  \n",
       "1  3.4  76.5   0.5   2.0  2.4  3.7  1.1  0.5  1.6          0.0  \n",
       "2  1.3  67.0   0.5   1.7  2.2  1.0  0.5  0.3  1.0          0.0  \n",
       "\n",
       "[3 rows x 21 columns]"
      ]
     },
     "execution_count": 5,
     "metadata": {},
     "output_type": "execute_result"
    }
   ],
   "source": [
    "df.head(3)"
   ]
  },
  {
   "cell_type": "code",
   "execution_count": 6,
   "id": "1582dc0a",
   "metadata": {},
   "outputs": [
    {
     "data": {
      "text/html": [
       "<style  type=\"text/css\" >\n",
       "#T_385e16ad_c64b_11ec_b1a7_c8d3ffebe8fbrow0_col0,#T_385e16ad_c64b_11ec_b1a7_c8d3ffebe8fbrow0_col1,#T_385e16ad_c64b_11ec_b1a7_c8d3ffebe8fbrow1_col0,#T_385e16ad_c64b_11ec_b1a7_c8d3ffebe8fbrow1_col1,#T_385e16ad_c64b_11ec_b1a7_c8d3ffebe8fbrow2_col0,#T_385e16ad_c64b_11ec_b1a7_c8d3ffebe8fbrow2_col1,#T_385e16ad_c64b_11ec_b1a7_c8d3ffebe8fbrow3_col0,#T_385e16ad_c64b_11ec_b1a7_c8d3ffebe8fbrow3_col1,#T_385e16ad_c64b_11ec_b1a7_c8d3ffebe8fbrow4_col0,#T_385e16ad_c64b_11ec_b1a7_c8d3ffebe8fbrow4_col1,#T_385e16ad_c64b_11ec_b1a7_c8d3ffebe8fbrow5_col0,#T_385e16ad_c64b_11ec_b1a7_c8d3ffebe8fbrow5_col1,#T_385e16ad_c64b_11ec_b1a7_c8d3ffebe8fbrow6_col0,#T_385e16ad_c64b_11ec_b1a7_c8d3ffebe8fbrow6_col1,#T_385e16ad_c64b_11ec_b1a7_c8d3ffebe8fbrow7_col0,#T_385e16ad_c64b_11ec_b1a7_c8d3ffebe8fbrow7_col1,#T_385e16ad_c64b_11ec_b1a7_c8d3ffebe8fbrow8_col0,#T_385e16ad_c64b_11ec_b1a7_c8d3ffebe8fbrow8_col1,#T_385e16ad_c64b_11ec_b1a7_c8d3ffebe8fbrow9_col0,#T_385e16ad_c64b_11ec_b1a7_c8d3ffebe8fbrow9_col1,#T_385e16ad_c64b_11ec_b1a7_c8d3ffebe8fbrow10_col0,#T_385e16ad_c64b_11ec_b1a7_c8d3ffebe8fbrow10_col1,#T_385e16ad_c64b_11ec_b1a7_c8d3ffebe8fbrow11_col0,#T_385e16ad_c64b_11ec_b1a7_c8d3ffebe8fbrow11_col1,#T_385e16ad_c64b_11ec_b1a7_c8d3ffebe8fbrow12_col0,#T_385e16ad_c64b_11ec_b1a7_c8d3ffebe8fbrow12_col1,#T_385e16ad_c64b_11ec_b1a7_c8d3ffebe8fbrow13_col0,#T_385e16ad_c64b_11ec_b1a7_c8d3ffebe8fbrow13_col1,#T_385e16ad_c64b_11ec_b1a7_c8d3ffebe8fbrow14_col0,#T_385e16ad_c64b_11ec_b1a7_c8d3ffebe8fbrow14_col1,#T_385e16ad_c64b_11ec_b1a7_c8d3ffebe8fbrow15_col0,#T_385e16ad_c64b_11ec_b1a7_c8d3ffebe8fbrow15_col1,#T_385e16ad_c64b_11ec_b1a7_c8d3ffebe8fbrow16_col0,#T_385e16ad_c64b_11ec_b1a7_c8d3ffebe8fbrow16_col1,#T_385e16ad_c64b_11ec_b1a7_c8d3ffebe8fbrow17_col0,#T_385e16ad_c64b_11ec_b1a7_c8d3ffebe8fbrow17_col1,#T_385e16ad_c64b_11ec_b1a7_c8d3ffebe8fbrow18_col0,#T_385e16ad_c64b_11ec_b1a7_c8d3ffebe8fbrow18_col1,#T_385e16ad_c64b_11ec_b1a7_c8d3ffebe8fbrow19_col0,#T_385e16ad_c64b_11ec_b1a7_c8d3ffebe8fbrow19_col1,#T_385e16ad_c64b_11ec_b1a7_c8d3ffebe8fbrow20_col0,#T_385e16ad_c64b_11ec_b1a7_c8d3ffebe8fbrow20_col1{\n",
       "            text-align:  center;\n",
       "            padding-left:  100px;\n",
       "        }</style><table id=\"T_385e16ad_c64b_11ec_b1a7_c8d3ffebe8fb\" ><thead>    <tr>        <th class=\"blank level0\" ></th>        <th class=\"col_heading level0 col0\" >Category</th>        <th class=\"col_heading level0 col1\" >Description</th>    </tr></thead><tbody>\n",
       "                <tr>\n",
       "                        <th id=\"T_385e16ad_c64b_11ec_b1a7_c8d3ffebe8fblevel0_row0\" class=\"row_heading level0 row0\" >0</th>\n",
       "                        <td id=\"T_385e16ad_c64b_11ec_b1a7_c8d3ffebe8fbrow0_col0\" class=\"data row0 col0\" >name</td>\n",
       "                        <td id=\"T_385e16ad_c64b_11ec_b1a7_c8d3ffebe8fbrow0_col1\" class=\"data row0 col1\" >Name</td>\n",
       "            </tr>\n",
       "            <tr>\n",
       "                        <th id=\"T_385e16ad_c64b_11ec_b1a7_c8d3ffebe8fblevel0_row1\" class=\"row_heading level0 row1\" >1</th>\n",
       "                        <td id=\"T_385e16ad_c64b_11ec_b1a7_c8d3ffebe8fbrow1_col0\" class=\"data row1 col0\" >gp</td>\n",
       "                        <td id=\"T_385e16ad_c64b_11ec_b1a7_c8d3ffebe8fbrow1_col1\" class=\"data row1 col1\" >Games Played</td>\n",
       "            </tr>\n",
       "            <tr>\n",
       "                        <th id=\"T_385e16ad_c64b_11ec_b1a7_c8d3ffebe8fblevel0_row2\" class=\"row_heading level0 row2\" >2</th>\n",
       "                        <td id=\"T_385e16ad_c64b_11ec_b1a7_c8d3ffebe8fbrow2_col0\" class=\"data row2 col0\" >min</td>\n",
       "                        <td id=\"T_385e16ad_c64b_11ec_b1a7_c8d3ffebe8fbrow2_col1\" class=\"data row2 col1\" >Minutes Played</td>\n",
       "            </tr>\n",
       "            <tr>\n",
       "                        <th id=\"T_385e16ad_c64b_11ec_b1a7_c8d3ffebe8fblevel0_row3\" class=\"row_heading level0 row3\" >3</th>\n",
       "                        <td id=\"T_385e16ad_c64b_11ec_b1a7_c8d3ffebe8fbrow3_col0\" class=\"data row3 col0\" >pts</td>\n",
       "                        <td id=\"T_385e16ad_c64b_11ec_b1a7_c8d3ffebe8fbrow3_col1\" class=\"data row3 col1\" >Points Per Game</td>\n",
       "            </tr>\n",
       "            <tr>\n",
       "                        <th id=\"T_385e16ad_c64b_11ec_b1a7_c8d3ffebe8fblevel0_row4\" class=\"row_heading level0 row4\" >4</th>\n",
       "                        <td id=\"T_385e16ad_c64b_11ec_b1a7_c8d3ffebe8fbrow4_col0\" class=\"data row4 col0\" >fgm</td>\n",
       "                        <td id=\"T_385e16ad_c64b_11ec_b1a7_c8d3ffebe8fbrow4_col1\" class=\"data row4 col1\" >Fields Goald Made</td>\n",
       "            </tr>\n",
       "            <tr>\n",
       "                        <th id=\"T_385e16ad_c64b_11ec_b1a7_c8d3ffebe8fblevel0_row5\" class=\"row_heading level0 row5\" >5</th>\n",
       "                        <td id=\"T_385e16ad_c64b_11ec_b1a7_c8d3ffebe8fbrow5_col0\" class=\"data row5 col0\" >fga</td>\n",
       "                        <td id=\"T_385e16ad_c64b_11ec_b1a7_c8d3ffebe8fbrow5_col1\" class=\"data row5 col1\" >Fields Goals Attempts</td>\n",
       "            </tr>\n",
       "            <tr>\n",
       "                        <th id=\"T_385e16ad_c64b_11ec_b1a7_c8d3ffebe8fblevel0_row6\" class=\"row_heading level0 row6\" >6</th>\n",
       "                        <td id=\"T_385e16ad_c64b_11ec_b1a7_c8d3ffebe8fbrow6_col0\" class=\"data row6 col0\" >fg</td>\n",
       "                        <td id=\"T_385e16ad_c64b_11ec_b1a7_c8d3ffebe8fbrow6_col1\" class=\"data row6 col1\" >% fields Goal Percent</td>\n",
       "            </tr>\n",
       "            <tr>\n",
       "                        <th id=\"T_385e16ad_c64b_11ec_b1a7_c8d3ffebe8fblevel0_row7\" class=\"row_heading level0 row7\" >7</th>\n",
       "                        <td id=\"T_385e16ad_c64b_11ec_b1a7_c8d3ffebe8fbrow7_col0\" class=\"data row7 col0\" >3p_made</td>\n",
       "                        <td id=\"T_385e16ad_c64b_11ec_b1a7_c8d3ffebe8fbrow7_col1\" class=\"data row7 col1\" >3 Points Made</td>\n",
       "            </tr>\n",
       "            <tr>\n",
       "                        <th id=\"T_385e16ad_c64b_11ec_b1a7_c8d3ffebe8fblevel0_row8\" class=\"row_heading level0 row8\" >8</th>\n",
       "                        <td id=\"T_385e16ad_c64b_11ec_b1a7_c8d3ffebe8fbrow8_col0\" class=\"data row8 col0\" >3pa</td>\n",
       "                        <td id=\"T_385e16ad_c64b_11ec_b1a7_c8d3ffebe8fbrow8_col1\" class=\"data row8 col1\" >3 Points Attempts</td>\n",
       "            </tr>\n",
       "            <tr>\n",
       "                        <th id=\"T_385e16ad_c64b_11ec_b1a7_c8d3ffebe8fblevel0_row9\" class=\"row_heading level0 row9\" >9</th>\n",
       "                        <td id=\"T_385e16ad_c64b_11ec_b1a7_c8d3ffebe8fbrow9_col0\" class=\"data row9 col0\" >3p</td>\n",
       "                        <td id=\"T_385e16ad_c64b_11ec_b1a7_c8d3ffebe8fbrow9_col1\" class=\"data row9 col1\" >3 Point Percent</td>\n",
       "            </tr>\n",
       "            <tr>\n",
       "                        <th id=\"T_385e16ad_c64b_11ec_b1a7_c8d3ffebe8fblevel0_row10\" class=\"row_heading level0 row10\" >10</th>\n",
       "                        <td id=\"T_385e16ad_c64b_11ec_b1a7_c8d3ffebe8fbrow10_col0\" class=\"data row10 col0\" >ftm</td>\n",
       "                        <td id=\"T_385e16ad_c64b_11ec_b1a7_c8d3ffebe8fbrow10_col1\" class=\"data row10 col1\" >Free Throw Made</td>\n",
       "            </tr>\n",
       "            <tr>\n",
       "                        <th id=\"T_385e16ad_c64b_11ec_b1a7_c8d3ffebe8fblevel0_row11\" class=\"row_heading level0 row11\" >11</th>\n",
       "                        <td id=\"T_385e16ad_c64b_11ec_b1a7_c8d3ffebe8fbrow11_col0\" class=\"data row11 col0\" >fta</td>\n",
       "                        <td id=\"T_385e16ad_c64b_11ec_b1a7_c8d3ffebe8fbrow11_col1\" class=\"data row11 col1\" >Free Throw Attempts</td>\n",
       "            </tr>\n",
       "            <tr>\n",
       "                        <th id=\"T_385e16ad_c64b_11ec_b1a7_c8d3ffebe8fblevel0_row12\" class=\"row_heading level0 row12\" >12</th>\n",
       "                        <td id=\"T_385e16ad_c64b_11ec_b1a7_c8d3ffebe8fbrow12_col0\" class=\"data row12 col0\" >ft</td>\n",
       "                        <td id=\"T_385e16ad_c64b_11ec_b1a7_c8d3ffebe8fbrow12_col1\" class=\"data row12 col1\" >Free throw Percent</td>\n",
       "            </tr>\n",
       "            <tr>\n",
       "                        <th id=\"T_385e16ad_c64b_11ec_b1a7_c8d3ffebe8fblevel0_row13\" class=\"row_heading level0 row13\" >13</th>\n",
       "                        <td id=\"T_385e16ad_c64b_11ec_b1a7_c8d3ffebe8fbrow13_col0\" class=\"data row13 col0\" >oreb</td>\n",
       "                        <td id=\"T_385e16ad_c64b_11ec_b1a7_c8d3ffebe8fbrow13_col1\" class=\"data row13 col1\" >Offensive Rebounds</td>\n",
       "            </tr>\n",
       "            <tr>\n",
       "                        <th id=\"T_385e16ad_c64b_11ec_b1a7_c8d3ffebe8fblevel0_row14\" class=\"row_heading level0 row14\" >14</th>\n",
       "                        <td id=\"T_385e16ad_c64b_11ec_b1a7_c8d3ffebe8fbrow14_col0\" class=\"data row14 col0\" >dreb</td>\n",
       "                        <td id=\"T_385e16ad_c64b_11ec_b1a7_c8d3ffebe8fbrow14_col1\" class=\"data row14 col1\" >Deffensive Rebounds</td>\n",
       "            </tr>\n",
       "            <tr>\n",
       "                        <th id=\"T_385e16ad_c64b_11ec_b1a7_c8d3ffebe8fblevel0_row15\" class=\"row_heading level0 row15\" >15</th>\n",
       "                        <td id=\"T_385e16ad_c64b_11ec_b1a7_c8d3ffebe8fbrow15_col0\" class=\"data row15 col0\" >reb</td>\n",
       "                        <td id=\"T_385e16ad_c64b_11ec_b1a7_c8d3ffebe8fbrow15_col1\" class=\"data row15 col1\" >Rebounds</td>\n",
       "            </tr>\n",
       "            <tr>\n",
       "                        <th id=\"T_385e16ad_c64b_11ec_b1a7_c8d3ffebe8fblevel0_row16\" class=\"row_heading level0 row16\" >16</th>\n",
       "                        <td id=\"T_385e16ad_c64b_11ec_b1a7_c8d3ffebe8fbrow16_col0\" class=\"data row16 col0\" >ast</td>\n",
       "                        <td id=\"T_385e16ad_c64b_11ec_b1a7_c8d3ffebe8fbrow16_col1\" class=\"data row16 col1\" >Assist</td>\n",
       "            </tr>\n",
       "            <tr>\n",
       "                        <th id=\"T_385e16ad_c64b_11ec_b1a7_c8d3ffebe8fblevel0_row17\" class=\"row_heading level0 row17\" >17</th>\n",
       "                        <td id=\"T_385e16ad_c64b_11ec_b1a7_c8d3ffebe8fbrow17_col0\" class=\"data row17 col0\" >stl</td>\n",
       "                        <td id=\"T_385e16ad_c64b_11ec_b1a7_c8d3ffebe8fbrow17_col1\" class=\"data row17 col1\" >Steals</td>\n",
       "            </tr>\n",
       "            <tr>\n",
       "                        <th id=\"T_385e16ad_c64b_11ec_b1a7_c8d3ffebe8fblevel0_row18\" class=\"row_heading level0 row18\" >18</th>\n",
       "                        <td id=\"T_385e16ad_c64b_11ec_b1a7_c8d3ffebe8fbrow18_col0\" class=\"data row18 col0\" >blk</td>\n",
       "                        <td id=\"T_385e16ad_c64b_11ec_b1a7_c8d3ffebe8fbrow18_col1\" class=\"data row18 col1\" >Blocks</td>\n",
       "            </tr>\n",
       "            <tr>\n",
       "                        <th id=\"T_385e16ad_c64b_11ec_b1a7_c8d3ffebe8fblevel0_row19\" class=\"row_heading level0 row19\" >19</th>\n",
       "                        <td id=\"T_385e16ad_c64b_11ec_b1a7_c8d3ffebe8fbrow19_col0\" class=\"data row19 col0\" >tov</td>\n",
       "                        <td id=\"T_385e16ad_c64b_11ec_b1a7_c8d3ffebe8fbrow19_col1\" class=\"data row19 col1\" >Turnovers</td>\n",
       "            </tr>\n",
       "            <tr>\n",
       "                        <th id=\"T_385e16ad_c64b_11ec_b1a7_c8d3ffebe8fblevel0_row20\" class=\"row_heading level0 row20\" >20</th>\n",
       "                        <td id=\"T_385e16ad_c64b_11ec_b1a7_c8d3ffebe8fbrow20_col0\" class=\"data row20 col0\" >target_5yrs</td>\n",
       "                        <td id=\"T_385e16ad_c64b_11ec_b1a7_c8d3ffebe8fbrow20_col1\" class=\"data row20 col1\" >Target_5years</td>\n",
       "            </tr>\n",
       "    </tbody></table>"
      ],
      "text/plain": [
       "<pandas.io.formats.style.Styler at 0x2496c2fc760>"
      ]
     },
     "execution_count": 6,
     "metadata": {},
     "output_type": "execute_result"
    }
   ],
   "source": [
    "description = ['Name','Games Played','Minutes Played','Points Per Game','Fields Goald Made','Fields Goals Attempts','% fields Goal Percent',\n",
    "'3 Points Made','3 Points Attempts','3 Point Percent','Free Throw Made','Free Throw Attempts','Free throw Percent','Offensive Rebounds','Deffensive Rebounds',\n",
    "'Rebounds','Assist','Steals','Blocks','Turnovers','Target_5years']\n",
    "table = pd.DataFrame()\n",
    "table['Category'] = df.columns\n",
    "table['Description'] = description\n",
    "\n",
    "table.style.set_properties(**{'text-align':'center','padding-left':'100px'})"
   ]
  },
  {
   "cell_type": "code",
   "execution_count": 7,
   "id": "fb6ee999",
   "metadata": {},
   "outputs": [
    {
     "name": "stdout",
     "output_type": "stream",
     "text": [
      "\n",
      "Numbers of rows: 1340\n",
      "Numbers of features: 21\n",
      "------------------\n",
      "\n"
     ]
    },
    {
     "data": {
      "text/html": [
       "<style  type=\"text/css\" >\n",
       "#T_386e0000_c64b_11ec_8f09_c8d3ffebe8fbrow0_col1,#T_386e0000_c64b_11ec_8f09_c8d3ffebe8fbrow0_col2,#T_386e0000_c64b_11ec_8f09_c8d3ffebe8fbrow1_col1,#T_386e0000_c64b_11ec_8f09_c8d3ffebe8fbrow1_col2,#T_386e0000_c64b_11ec_8f09_c8d3ffebe8fbrow2_col1,#T_386e0000_c64b_11ec_8f09_c8d3ffebe8fbrow2_col2,#T_386e0000_c64b_11ec_8f09_c8d3ffebe8fbrow3_col1,#T_386e0000_c64b_11ec_8f09_c8d3ffebe8fbrow3_col2,#T_386e0000_c64b_11ec_8f09_c8d3ffebe8fbrow4_col1,#T_386e0000_c64b_11ec_8f09_c8d3ffebe8fbrow4_col2,#T_386e0000_c64b_11ec_8f09_c8d3ffebe8fbrow5_col1,#T_386e0000_c64b_11ec_8f09_c8d3ffebe8fbrow5_col2,#T_386e0000_c64b_11ec_8f09_c8d3ffebe8fbrow6_col1,#T_386e0000_c64b_11ec_8f09_c8d3ffebe8fbrow6_col2,#T_386e0000_c64b_11ec_8f09_c8d3ffebe8fbrow7_col1,#T_386e0000_c64b_11ec_8f09_c8d3ffebe8fbrow7_col2,#T_386e0000_c64b_11ec_8f09_c8d3ffebe8fbrow8_col1,#T_386e0000_c64b_11ec_8f09_c8d3ffebe8fbrow8_col2,#T_386e0000_c64b_11ec_8f09_c8d3ffebe8fbrow10_col1,#T_386e0000_c64b_11ec_8f09_c8d3ffebe8fbrow10_col2,#T_386e0000_c64b_11ec_8f09_c8d3ffebe8fbrow11_col1,#T_386e0000_c64b_11ec_8f09_c8d3ffebe8fbrow11_col2,#T_386e0000_c64b_11ec_8f09_c8d3ffebe8fbrow12_col1,#T_386e0000_c64b_11ec_8f09_c8d3ffebe8fbrow12_col2,#T_386e0000_c64b_11ec_8f09_c8d3ffebe8fbrow13_col1,#T_386e0000_c64b_11ec_8f09_c8d3ffebe8fbrow13_col2,#T_386e0000_c64b_11ec_8f09_c8d3ffebe8fbrow14_col1,#T_386e0000_c64b_11ec_8f09_c8d3ffebe8fbrow14_col2,#T_386e0000_c64b_11ec_8f09_c8d3ffebe8fbrow15_col1,#T_386e0000_c64b_11ec_8f09_c8d3ffebe8fbrow15_col2,#T_386e0000_c64b_11ec_8f09_c8d3ffebe8fbrow16_col1,#T_386e0000_c64b_11ec_8f09_c8d3ffebe8fbrow16_col2,#T_386e0000_c64b_11ec_8f09_c8d3ffebe8fbrow17_col1,#T_386e0000_c64b_11ec_8f09_c8d3ffebe8fbrow17_col2,#T_386e0000_c64b_11ec_8f09_c8d3ffebe8fbrow18_col1,#T_386e0000_c64b_11ec_8f09_c8d3ffebe8fbrow18_col2,#T_386e0000_c64b_11ec_8f09_c8d3ffebe8fbrow19_col1,#T_386e0000_c64b_11ec_8f09_c8d3ffebe8fbrow19_col2,#T_386e0000_c64b_11ec_8f09_c8d3ffebe8fbrow20_col1,#T_386e0000_c64b_11ec_8f09_c8d3ffebe8fbrow20_col2{\n",
       "            width:  10em;\n",
       "             height:  80%;\n",
       "        }#T_386e0000_c64b_11ec_8f09_c8d3ffebe8fbrow9_col1,#T_386e0000_c64b_11ec_8f09_c8d3ffebe8fbrow9_col2{\n",
       "            width:  10em;\n",
       "             height:  80%;\n",
       "            background:  linear-gradient(90deg,#7FFFD4 100.0%, transparent 100.0%);\n",
       "        }</style><table id=\"T_386e0000_c64b_11ec_8f09_c8d3ffebe8fb\" ><thead>    <tr>        <th class=\"blank level0\" ></th>        <th class=\"col_heading level0 col0\" >type</th>        <th class=\"col_heading level0 col1\" >numbers of nulls</th>        <th class=\"col_heading level0 col2\" >% of nulls</th>    </tr></thead><tbody>\n",
       "                <tr>\n",
       "                        <th id=\"T_386e0000_c64b_11ec_8f09_c8d3ffebe8fblevel0_row0\" class=\"row_heading level0 row0\" >name</th>\n",
       "                        <td id=\"T_386e0000_c64b_11ec_8f09_c8d3ffebe8fbrow0_col0\" class=\"data row0 col0\" >object</td>\n",
       "                        <td id=\"T_386e0000_c64b_11ec_8f09_c8d3ffebe8fbrow0_col1\" class=\"data row0 col1\" >0</td>\n",
       "                        <td id=\"T_386e0000_c64b_11ec_8f09_c8d3ffebe8fbrow0_col2\" class=\"data row0 col2\" >0.000000</td>\n",
       "            </tr>\n",
       "            <tr>\n",
       "                        <th id=\"T_386e0000_c64b_11ec_8f09_c8d3ffebe8fblevel0_row1\" class=\"row_heading level0 row1\" >gp</th>\n",
       "                        <td id=\"T_386e0000_c64b_11ec_8f09_c8d3ffebe8fbrow1_col0\" class=\"data row1 col0\" >int64</td>\n",
       "                        <td id=\"T_386e0000_c64b_11ec_8f09_c8d3ffebe8fbrow1_col1\" class=\"data row1 col1\" >0</td>\n",
       "                        <td id=\"T_386e0000_c64b_11ec_8f09_c8d3ffebe8fbrow1_col2\" class=\"data row1 col2\" >0.000000</td>\n",
       "            </tr>\n",
       "            <tr>\n",
       "                        <th id=\"T_386e0000_c64b_11ec_8f09_c8d3ffebe8fblevel0_row2\" class=\"row_heading level0 row2\" >min</th>\n",
       "                        <td id=\"T_386e0000_c64b_11ec_8f09_c8d3ffebe8fbrow2_col0\" class=\"data row2 col0\" >float64</td>\n",
       "                        <td id=\"T_386e0000_c64b_11ec_8f09_c8d3ffebe8fbrow2_col1\" class=\"data row2 col1\" >0</td>\n",
       "                        <td id=\"T_386e0000_c64b_11ec_8f09_c8d3ffebe8fbrow2_col2\" class=\"data row2 col2\" >0.000000</td>\n",
       "            </tr>\n",
       "            <tr>\n",
       "                        <th id=\"T_386e0000_c64b_11ec_8f09_c8d3ffebe8fblevel0_row3\" class=\"row_heading level0 row3\" >pts</th>\n",
       "                        <td id=\"T_386e0000_c64b_11ec_8f09_c8d3ffebe8fbrow3_col0\" class=\"data row3 col0\" >float64</td>\n",
       "                        <td id=\"T_386e0000_c64b_11ec_8f09_c8d3ffebe8fbrow3_col1\" class=\"data row3 col1\" >0</td>\n",
       "                        <td id=\"T_386e0000_c64b_11ec_8f09_c8d3ffebe8fbrow3_col2\" class=\"data row3 col2\" >0.000000</td>\n",
       "            </tr>\n",
       "            <tr>\n",
       "                        <th id=\"T_386e0000_c64b_11ec_8f09_c8d3ffebe8fblevel0_row4\" class=\"row_heading level0 row4\" >fgm</th>\n",
       "                        <td id=\"T_386e0000_c64b_11ec_8f09_c8d3ffebe8fbrow4_col0\" class=\"data row4 col0\" >float64</td>\n",
       "                        <td id=\"T_386e0000_c64b_11ec_8f09_c8d3ffebe8fbrow4_col1\" class=\"data row4 col1\" >0</td>\n",
       "                        <td id=\"T_386e0000_c64b_11ec_8f09_c8d3ffebe8fbrow4_col2\" class=\"data row4 col2\" >0.000000</td>\n",
       "            </tr>\n",
       "            <tr>\n",
       "                        <th id=\"T_386e0000_c64b_11ec_8f09_c8d3ffebe8fblevel0_row5\" class=\"row_heading level0 row5\" >fga</th>\n",
       "                        <td id=\"T_386e0000_c64b_11ec_8f09_c8d3ffebe8fbrow5_col0\" class=\"data row5 col0\" >float64</td>\n",
       "                        <td id=\"T_386e0000_c64b_11ec_8f09_c8d3ffebe8fbrow5_col1\" class=\"data row5 col1\" >0</td>\n",
       "                        <td id=\"T_386e0000_c64b_11ec_8f09_c8d3ffebe8fbrow5_col2\" class=\"data row5 col2\" >0.000000</td>\n",
       "            </tr>\n",
       "            <tr>\n",
       "                        <th id=\"T_386e0000_c64b_11ec_8f09_c8d3ffebe8fblevel0_row6\" class=\"row_heading level0 row6\" >fg</th>\n",
       "                        <td id=\"T_386e0000_c64b_11ec_8f09_c8d3ffebe8fbrow6_col0\" class=\"data row6 col0\" >float64</td>\n",
       "                        <td id=\"T_386e0000_c64b_11ec_8f09_c8d3ffebe8fbrow6_col1\" class=\"data row6 col1\" >0</td>\n",
       "                        <td id=\"T_386e0000_c64b_11ec_8f09_c8d3ffebe8fbrow6_col2\" class=\"data row6 col2\" >0.000000</td>\n",
       "            </tr>\n",
       "            <tr>\n",
       "                        <th id=\"T_386e0000_c64b_11ec_8f09_c8d3ffebe8fblevel0_row7\" class=\"row_heading level0 row7\" >3p_made</th>\n",
       "                        <td id=\"T_386e0000_c64b_11ec_8f09_c8d3ffebe8fbrow7_col0\" class=\"data row7 col0\" >float64</td>\n",
       "                        <td id=\"T_386e0000_c64b_11ec_8f09_c8d3ffebe8fbrow7_col1\" class=\"data row7 col1\" >0</td>\n",
       "                        <td id=\"T_386e0000_c64b_11ec_8f09_c8d3ffebe8fbrow7_col2\" class=\"data row7 col2\" >0.000000</td>\n",
       "            </tr>\n",
       "            <tr>\n",
       "                        <th id=\"T_386e0000_c64b_11ec_8f09_c8d3ffebe8fblevel0_row8\" class=\"row_heading level0 row8\" >3pa</th>\n",
       "                        <td id=\"T_386e0000_c64b_11ec_8f09_c8d3ffebe8fbrow8_col0\" class=\"data row8 col0\" >float64</td>\n",
       "                        <td id=\"T_386e0000_c64b_11ec_8f09_c8d3ffebe8fbrow8_col1\" class=\"data row8 col1\" >0</td>\n",
       "                        <td id=\"T_386e0000_c64b_11ec_8f09_c8d3ffebe8fbrow8_col2\" class=\"data row8 col2\" >0.000000</td>\n",
       "            </tr>\n",
       "            <tr>\n",
       "                        <th id=\"T_386e0000_c64b_11ec_8f09_c8d3ffebe8fblevel0_row9\" class=\"row_heading level0 row9\" >3p</th>\n",
       "                        <td id=\"T_386e0000_c64b_11ec_8f09_c8d3ffebe8fbrow9_col0\" class=\"data row9 col0\" >float64</td>\n",
       "                        <td id=\"T_386e0000_c64b_11ec_8f09_c8d3ffebe8fbrow9_col1\" class=\"data row9 col1\" >11</td>\n",
       "                        <td id=\"T_386e0000_c64b_11ec_8f09_c8d3ffebe8fbrow9_col2\" class=\"data row9 col2\" >0.820000</td>\n",
       "            </tr>\n",
       "            <tr>\n",
       "                        <th id=\"T_386e0000_c64b_11ec_8f09_c8d3ffebe8fblevel0_row10\" class=\"row_heading level0 row10\" >ftm</th>\n",
       "                        <td id=\"T_386e0000_c64b_11ec_8f09_c8d3ffebe8fbrow10_col0\" class=\"data row10 col0\" >float64</td>\n",
       "                        <td id=\"T_386e0000_c64b_11ec_8f09_c8d3ffebe8fbrow10_col1\" class=\"data row10 col1\" >0</td>\n",
       "                        <td id=\"T_386e0000_c64b_11ec_8f09_c8d3ffebe8fbrow10_col2\" class=\"data row10 col2\" >0.000000</td>\n",
       "            </tr>\n",
       "            <tr>\n",
       "                        <th id=\"T_386e0000_c64b_11ec_8f09_c8d3ffebe8fblevel0_row11\" class=\"row_heading level0 row11\" >fta</th>\n",
       "                        <td id=\"T_386e0000_c64b_11ec_8f09_c8d3ffebe8fbrow11_col0\" class=\"data row11 col0\" >float64</td>\n",
       "                        <td id=\"T_386e0000_c64b_11ec_8f09_c8d3ffebe8fbrow11_col1\" class=\"data row11 col1\" >0</td>\n",
       "                        <td id=\"T_386e0000_c64b_11ec_8f09_c8d3ffebe8fbrow11_col2\" class=\"data row11 col2\" >0.000000</td>\n",
       "            </tr>\n",
       "            <tr>\n",
       "                        <th id=\"T_386e0000_c64b_11ec_8f09_c8d3ffebe8fblevel0_row12\" class=\"row_heading level0 row12\" >ft</th>\n",
       "                        <td id=\"T_386e0000_c64b_11ec_8f09_c8d3ffebe8fbrow12_col0\" class=\"data row12 col0\" >float64</td>\n",
       "                        <td id=\"T_386e0000_c64b_11ec_8f09_c8d3ffebe8fbrow12_col1\" class=\"data row12 col1\" >0</td>\n",
       "                        <td id=\"T_386e0000_c64b_11ec_8f09_c8d3ffebe8fbrow12_col2\" class=\"data row12 col2\" >0.000000</td>\n",
       "            </tr>\n",
       "            <tr>\n",
       "                        <th id=\"T_386e0000_c64b_11ec_8f09_c8d3ffebe8fblevel0_row13\" class=\"row_heading level0 row13\" >oreb</th>\n",
       "                        <td id=\"T_386e0000_c64b_11ec_8f09_c8d3ffebe8fbrow13_col0\" class=\"data row13 col0\" >float64</td>\n",
       "                        <td id=\"T_386e0000_c64b_11ec_8f09_c8d3ffebe8fbrow13_col1\" class=\"data row13 col1\" >0</td>\n",
       "                        <td id=\"T_386e0000_c64b_11ec_8f09_c8d3ffebe8fbrow13_col2\" class=\"data row13 col2\" >0.000000</td>\n",
       "            </tr>\n",
       "            <tr>\n",
       "                        <th id=\"T_386e0000_c64b_11ec_8f09_c8d3ffebe8fblevel0_row14\" class=\"row_heading level0 row14\" >dreb</th>\n",
       "                        <td id=\"T_386e0000_c64b_11ec_8f09_c8d3ffebe8fbrow14_col0\" class=\"data row14 col0\" >float64</td>\n",
       "                        <td id=\"T_386e0000_c64b_11ec_8f09_c8d3ffebe8fbrow14_col1\" class=\"data row14 col1\" >0</td>\n",
       "                        <td id=\"T_386e0000_c64b_11ec_8f09_c8d3ffebe8fbrow14_col2\" class=\"data row14 col2\" >0.000000</td>\n",
       "            </tr>\n",
       "            <tr>\n",
       "                        <th id=\"T_386e0000_c64b_11ec_8f09_c8d3ffebe8fblevel0_row15\" class=\"row_heading level0 row15\" >reb</th>\n",
       "                        <td id=\"T_386e0000_c64b_11ec_8f09_c8d3ffebe8fbrow15_col0\" class=\"data row15 col0\" >float64</td>\n",
       "                        <td id=\"T_386e0000_c64b_11ec_8f09_c8d3ffebe8fbrow15_col1\" class=\"data row15 col1\" >0</td>\n",
       "                        <td id=\"T_386e0000_c64b_11ec_8f09_c8d3ffebe8fbrow15_col2\" class=\"data row15 col2\" >0.000000</td>\n",
       "            </tr>\n",
       "            <tr>\n",
       "                        <th id=\"T_386e0000_c64b_11ec_8f09_c8d3ffebe8fblevel0_row16\" class=\"row_heading level0 row16\" >ast</th>\n",
       "                        <td id=\"T_386e0000_c64b_11ec_8f09_c8d3ffebe8fbrow16_col0\" class=\"data row16 col0\" >float64</td>\n",
       "                        <td id=\"T_386e0000_c64b_11ec_8f09_c8d3ffebe8fbrow16_col1\" class=\"data row16 col1\" >0</td>\n",
       "                        <td id=\"T_386e0000_c64b_11ec_8f09_c8d3ffebe8fbrow16_col2\" class=\"data row16 col2\" >0.000000</td>\n",
       "            </tr>\n",
       "            <tr>\n",
       "                        <th id=\"T_386e0000_c64b_11ec_8f09_c8d3ffebe8fblevel0_row17\" class=\"row_heading level0 row17\" >stl</th>\n",
       "                        <td id=\"T_386e0000_c64b_11ec_8f09_c8d3ffebe8fbrow17_col0\" class=\"data row17 col0\" >float64</td>\n",
       "                        <td id=\"T_386e0000_c64b_11ec_8f09_c8d3ffebe8fbrow17_col1\" class=\"data row17 col1\" >0</td>\n",
       "                        <td id=\"T_386e0000_c64b_11ec_8f09_c8d3ffebe8fbrow17_col2\" class=\"data row17 col2\" >0.000000</td>\n",
       "            </tr>\n",
       "            <tr>\n",
       "                        <th id=\"T_386e0000_c64b_11ec_8f09_c8d3ffebe8fblevel0_row18\" class=\"row_heading level0 row18\" >blk</th>\n",
       "                        <td id=\"T_386e0000_c64b_11ec_8f09_c8d3ffebe8fbrow18_col0\" class=\"data row18 col0\" >float64</td>\n",
       "                        <td id=\"T_386e0000_c64b_11ec_8f09_c8d3ffebe8fbrow18_col1\" class=\"data row18 col1\" >0</td>\n",
       "                        <td id=\"T_386e0000_c64b_11ec_8f09_c8d3ffebe8fbrow18_col2\" class=\"data row18 col2\" >0.000000</td>\n",
       "            </tr>\n",
       "            <tr>\n",
       "                        <th id=\"T_386e0000_c64b_11ec_8f09_c8d3ffebe8fblevel0_row19\" class=\"row_heading level0 row19\" >tov</th>\n",
       "                        <td id=\"T_386e0000_c64b_11ec_8f09_c8d3ffebe8fbrow19_col0\" class=\"data row19 col0\" >float64</td>\n",
       "                        <td id=\"T_386e0000_c64b_11ec_8f09_c8d3ffebe8fbrow19_col1\" class=\"data row19 col1\" >0</td>\n",
       "                        <td id=\"T_386e0000_c64b_11ec_8f09_c8d3ffebe8fbrow19_col2\" class=\"data row19 col2\" >0.000000</td>\n",
       "            </tr>\n",
       "            <tr>\n",
       "                        <th id=\"T_386e0000_c64b_11ec_8f09_c8d3ffebe8fblevel0_row20\" class=\"row_heading level0 row20\" >target_5yrs</th>\n",
       "                        <td id=\"T_386e0000_c64b_11ec_8f09_c8d3ffebe8fbrow20_col0\" class=\"data row20 col0\" >float64</td>\n",
       "                        <td id=\"T_386e0000_c64b_11ec_8f09_c8d3ffebe8fbrow20_col1\" class=\"data row20 col1\" >0</td>\n",
       "                        <td id=\"T_386e0000_c64b_11ec_8f09_c8d3ffebe8fbrow20_col2\" class=\"data row20 col2\" >0.000000</td>\n",
       "            </tr>\n",
       "    </tbody></table>"
      ],
      "text/plain": [
       "<pandas.io.formats.style.Styler at 0x2496c2a5ee0>"
      ]
     },
     "execution_count": 7,
     "metadata": {},
     "output_type": "execute_result"
    }
   ],
   "source": [
    "print(\"\"\"\"\"\")\n",
    "print(f'Numbers of rows: {df.shape[0]}')\n",
    "print(f'Numbers of features: {df.shape[1]}')\n",
    "print('------------------')\n",
    "print(\"\"\"\"\"\")\n",
    "nulls = df.isnull().sum()\n",
    "types = df.dtypes\n",
    "show_me = pd.DataFrame ()\n",
    "show_me['type'] =types\n",
    "show_me['numbers of nulls'] = nulls\n",
    "show_me['% of nulls'] = round(nulls*100/df.shape[0],2)\n",
    "show_me.style.bar(subset=None, axis=0, color='#7FFFD4', width=100, align='left', vmin=None, vmax=None)"
   ]
  },
  {
   "cell_type": "markdown",
   "id": "349ad7bc",
   "metadata": {},
   "source": [
    "<h2>3.1 Data Clean</h2>"
   ]
  },
  {
   "cell_type": "code",
   "execution_count": 8,
   "id": "83ef76bb",
   "metadata": {},
   "outputs": [
    {
     "data": {
      "text/plain": [
       "(1329, 21)"
      ]
     },
     "execution_count": 8,
     "metadata": {},
     "output_type": "execute_result"
    }
   ],
   "source": [
    "# Mask null data in 3p feature\n",
    "mask=df['3p'].notnull()\n",
    "df=df[mask]\n",
    "df.shape"
   ]
  },
  {
   "cell_type": "code",
   "execution_count": 9,
   "id": "2c7a8624",
   "metadata": {},
   "outputs": [
    {
     "data": {
      "text/plain": [
       "(1298, 21)"
      ]
     },
     "execution_count": 9,
     "metadata": {},
     "output_type": "execute_result"
    }
   ],
   "source": [
    "#Drop duplicates\n",
    "df[df.duplicated(subset=['name','gp'])]\n",
    "df = df.drop_duplicates(subset=['name','gp'])\n",
    "df.shape"
   ]
  },
  {
   "cell_type": "markdown",
   "id": "cb2e88ff",
   "metadata": {},
   "source": [
    "###### Sample"
   ]
  },
  {
   "cell_type": "code",
   "execution_count": 10,
   "id": "bc75020b",
   "metadata": {},
   "outputs": [
    {
     "name": "stdout",
     "output_type": "stream",
     "text": [
      "(1298, 21)\n",
      "(130, 21)\n"
     ]
    }
   ],
   "source": [
    "df_10=df.sample(frac=0.1,random_state=2)\n",
    "print(df.shape)\n",
    "print(df_10.shape)"
   ]
  },
  {
   "cell_type": "code",
   "execution_count": 11,
   "id": "a193cdd3",
   "metadata": {},
   "outputs": [
    {
     "data": {
      "text/plain": [
       "(1168, 21)"
      ]
     },
     "execution_count": 11,
     "metadata": {},
     "output_type": "execute_result"
    }
   ],
   "source": [
    "df = df.drop(df_10.index)\n",
    "df.shape"
   ]
  },
  {
   "cell_type": "markdown",
   "id": "3352ed26",
   "metadata": {},
   "source": [
    "<h2> 3.2. Data Analysis</h2>"
   ]
  },
  {
   "cell_type": "markdown",
   "id": "c2804db5",
   "metadata": {},
   "source": [
    "###### correlation"
   ]
  },
  {
   "cell_type": "code",
   "execution_count": 12,
   "id": "0a40e983",
   "metadata": {},
   "outputs": [
    {
     "name": "stderr",
     "output_type": "stream",
     "text": [
      "C:\\Users\\Alejandra\\AppData\\Local\\Temp\\ipykernel_24488\\1958566095.py:6: DeprecationWarning: `np.bool` is a deprecated alias for the builtin `bool`. To silence this warning, use `bool` by itself. Doing this will not modify any behavior and is safe. If you specifically wanted the numpy scalar type, use `np.bool_` here.\n",
      "Deprecated in NumPy 1.20; for more details and guidance: https://numpy.org/devdocs/release/1.20.0-notes.html#deprecations\n",
      "  mask = np.zeros_like(df.corr(), dtype=np.bool)\n"
     ]
    },
    {
     "data": {
      "image/png": "[encoded data removed]",
      "text/plain": [
       "<Figure size 864x504 with 2 Axes>"
      ]
     },
     "metadata": {},
     "output_type": "display_data"
    }
   ],
   "source": [
    "import matplotlib.style as style\n",
    "style.use('ggplot')\n",
    "sns.set_style('whitegrid')\n",
    "plt.subplots(figsize = (12,7))\n",
    "## Plotting heatmap. # Generate a mask for the upper triangle (taken from seaborn example gallery)\n",
    "mask = np.zeros_like(df.corr(), dtype=np.bool)\n",
    "mask[np.triu_indices_from(mask)] = True\n",
    "sns.heatmap(df.corr(), cmap=sns.diverging_palette(20, 220, n=200), annot=True, mask=mask, center = 0, );\n",
    "plt.title(\"Correlation between features\", fontsize = 25);\n",
    "plt.show()"
   ]
  },
  {
   "cell_type": "markdown",
   "id": "b82fc1a6",
   "metadata": {},
   "source": [
    "As it is expected, features resulting of the mathematical operation of others features have a strong correlation with them. Such as 3p% between 3pa and 3pm. Also the feature label 'number games played'shows a solid correlation with 'minutes played'.In the other hand, the target shows low correlation with '3 points' features. "
   ]
  },
  {
   "cell_type": "code",
   "execution_count": 13,
   "id": "fb93b5fb",
   "metadata": {},
   "outputs": [
    {
     "data": {
      "text/plain": [
       "<Figure size 1080x720 with 0 Axes>"
      ]
     },
     "metadata": {},
     "output_type": "display_data"
    },
    {
     "data": {
      "image/png": "[encoded data removed]",
      "text/plain": [
       "<Figure size 418.625x360 with 1 Axes>"
      ]
     },
     "metadata": {},
     "output_type": "display_data"
    }
   ],
   "source": [
    "plt.figure(figsize=(15,10))\n",
    "xprop = 'gp'\n",
    "yprop = 'min'\n",
    "sns.relplot(data=df, x=xprop, y=yprop, hue='target_5yrs',kind='line')\n",
    "plt.xlabel('{} range'.format(xprop), size=14)\n",
    "plt.ylabel('Number of {}'.format(yprop), size=14)\n",
    "plt.title('Grahp line'.format(yprop), size=20)\n",
    "plt.show()"
   ]
  },
  {
   "cell_type": "markdown",
   "id": "fb1cefa5",
   "metadata": {},
   "source": [
    "The line graph illustrates the amounts of minutes per game played for positive class (target_5yrs = 1, blue) and negative class (target_5yrs =0, red). Overall, both classes increased with the number of games played, with a slight difference in the rise of the positive class, when the number of games is higher. \n",
    "The opposite occurs in the left inferior edge of the graph where is a prevalence of negative class. This might be indicating that rookies with lower performance have played fewer games and have fewer minutes on the playing field.     "
   ]
  },
  {
   "cell_type": "code",
   "execution_count": 14,
   "id": "66e483c1",
   "metadata": {},
   "outputs": [
    {
     "data": {
      "image/png": "[encoded data removed]",
      "text/plain": [
       "<Figure size 864x576 with 1 Axes>"
      ]
     },
     "metadata": {},
     "output_type": "display_data"
    }
   ],
   "source": [
    "plt.figure(figsize = (12, 8))\n",
    "plot = sns.countplot(x = 'gp', data = df, hue='target_5yrs')\n",
    "plt.xticks(rotation = 90)\n",
    "plt.title(\"Player with more games\")\n",
    "plt.xlabel(\"Number of games\")\n",
    "plt.ylabel(\"Number of players\")\n",
    "plt.legend(loc='upper left')\n",
    "plt.show()"
   ]
  },
  {
   "cell_type": "markdown",
   "id": "6c1d8116",
   "metadata": {},
   "source": [
    "The count plot illustrates the numbers of players per class with more games. The possitive class shows an increased in the number of games.  "
   ]
  },
  {
   "cell_type": "markdown",
   "id": "7a19ad12",
   "metadata": {},
   "source": [
    "<h2> 4. Methology</h2>"
   ]
  },
  {
   "cell_type": "code",
   "execution_count": 15,
   "id": "e974ce9f",
   "metadata": {},
   "outputs": [
    {
     "data": {
      "text/plain": [
       "1.0    0.62\n",
       "0.0    0.38\n",
       "Name: target_5yrs, dtype: float64"
      ]
     },
     "execution_count": 15,
     "metadata": {},
     "output_type": "execute_result"
    }
   ],
   "source": [
    "y=df['target_5yrs']\n",
    "y.value_counts(normalize=True).round(2)"
   ]
  },
  {
   "cell_type": "code",
   "execution_count": 16,
   "id": "e9648f5e",
   "metadata": {},
   "outputs": [],
   "source": [
    "X=df.drop(['target_5yrs','name'], axis=1)"
   ]
  },
  {
   "cell_type": "code",
   "execution_count": 17,
   "id": "e5595f14",
   "metadata": {},
   "outputs": [
    {
     "data": {
      "application/vnd.plotly.v1+json": {
       "config": {
        "plotlyServerURL": "https://plot.ly"
       },
       "data": [
        {
         "hole": 0.3,
         "labels": [
          0,
          1
         ],
         "type": "pie",
         "values": [
          446,
          722
         ]
        }
       ],
       "layout": {
        "legend": {
         "orientation": "h",
         "x": 1,
         "xanchor": "right",
         "y": 1.02,
         "yanchor": "bottom"
        },
        "template": {
         "data": {
          "bar": [
           {
            "error_x": {
             "color": "#2a3f5f"
            },
            "error_y": {
             "color": "#2a3f5f"
            },
            "marker": {
             "line": {
              "color": "#E5ECF6",
              "width": 0.5
             }
            },
            "type": "bar"
           }
          ],
          "barpolar": [
           {
            "marker": {
             "line": {
              "color": "#E5ECF6",
              "width": 0.5
             }
            },
            "type": "barpolar"
           }
          ],
          "carpet": [
           {
            "aaxis": {
             "endlinecolor": "#2a3f5f",
             "gridcolor": "white",
             "linecolor": "white",
             "minorgridcolor": "white",
             "startlinecolor": "#2a3f5f"
            },
            "baxis": {
             "endlinecolor": "#2a3f5f",
             "gridcolor": "white",
             "linecolor": "white",
             "minorgridcolor": "white",
             "startlinecolor": "#2a3f5f"
            },
            "type": "carpet"
           }
          ],
          "choropleth": [
           {
            "colorbar": {
             "outlinewidth": 0,
             "ticks": ""
            },
            "type": "choropleth"
           }
          ],
          "contour": [
           {
            "colorbar": {
             "outlinewidth": 0,
             "ticks": ""
            },
            "colorscale": [
             [
              0,
              "#0d0887"
             ],
             [
              0.1111111111111111,
              "#46039f"
             ],
             [
              0.2222222222222222,
              "#7201a8"
             ],
             [
              0.3333333333333333,
              "#9c179e"
             ],
             [
              0.4444444444444444,
              "#bd3786"
             ],
             [
              0.5555555555555556,
              "#d8576b"
             ],
             [
              0.6666666666666666,
              "#ed7953"
             ],
             [
              0.7777777777777778,
              "#fb9f3a"
             ],
             [
              0.8888888888888888,
              "#fdca26"
             ],
             [
              1,
              "#f0f921"
             ]
            ],
            "type": "contour"
           }
          ],
          "contourcarpet": [
           {
            "colorbar": {
             "outlinewidth": 0,
             "ticks": ""
            },
            "type": "contourcarpet"
           }
          ],
          "heatmap": [
           {
            "colorbar": {
             "outlinewidth": 0,
             "ticks": ""
            },
            "colorscale": [
             [
              0,
              "#0d0887"
             ],
             [
              0.1111111111111111,
              "#46039f"
             ],
             [
              0.2222222222222222,
              "#7201a8"
             ],
             [
              0.3333333333333333,
              "#9c179e"
             ],
             [
              0.4444444444444444,
              "#bd3786"
             ],
             [
              0.5555555555555556,
              "#d8576b"
             ],
             [
              0.6666666666666666,
              "#ed7953"
             ],
             [
              0.7777777777777778,
              "#fb9f3a"
             ],
             [
              0.8888888888888888,
              "#fdca26"
             ],
             [
              1,
              "#f0f921"
             ]
            ],
            "type": "heatmap"
           }
          ],
          "heatmapgl": [
           {
            "colorbar": {
             "outlinewidth": 0,
             "ticks": ""
            },
            "colorscale": [
             [
              0,
              "#0d0887"
             ],
             [
              0.1111111111111111,
              "#46039f"
             ],
             [
              0.2222222222222222,
              "#7201a8"
             ],
             [
              0.3333333333333333,
              "#9c179e"
             ],
             [
              0.4444444444444444,
              "#bd3786"
             ],
             [
              0.5555555555555556,
              "#d8576b"
             ],
             [
              0.6666666666666666,
              "#ed7953"
             ],
             [
              0.7777777777777778,
              "#fb9f3a"
             ],
             [
              0.8888888888888888,
              "#fdca26"
             ],
             [
              1,
              "#f0f921"
             ]
            ],
            "type": "heatmapgl"
           }
          ],
          "histogram": [
           {
            "marker": {
             "colorbar": {
              "outlinewidth": 0,
              "ticks": ""
             }
            },
            "type": "histogram"
           }
          ],
          "histogram2d": [
           {
            "colorbar": {
             "outlinewidth": 0,
             "ticks": ""
            },
            "colorscale": [
             [
              0,
              "#0d0887"
             ],
             [
              0.1111111111111111,
              "#46039f"
             ],
             [
              0.2222222222222222,
              "#7201a8"
             ],
             [
              0.3333333333333333,
              "#9c179e"
             ],
             [
              0.4444444444444444,
              "#bd3786"
             ],
             [
              0.5555555555555556,
              "#d8576b"
             ],
             [
              0.6666666666666666,
              "#ed7953"
             ],
             [
              0.7777777777777778,
              "#fb9f3a"
             ],
             [
              0.8888888888888888,
              "#fdca26"
             ],
             [
              1,
              "#f0f921"
             ]
            ],
            "type": "histogram2d"
           }
          ],
          "histogram2dcontour": [
           {
            "colorbar": {
             "outlinewidth": 0,
             "ticks": ""
            },
            "colorscale": [
             [
              0,
              "#0d0887"
             ],
             [
              0.1111111111111111,
              "#46039f"
             ],
             [
              0.2222222222222222,
              "#7201a8"
             ],
             [
              0.3333333333333333,
              "#9c179e"
             ],
             [
              0.4444444444444444,
              "#bd3786"
             ],
             [
              0.5555555555555556,
              "#d8576b"
             ],
             [
              0.6666666666666666,
              "#ed7953"
             ],
             [
              0.7777777777777778,
              "#fb9f3a"
             ],
             [
              0.8888888888888888,
              "#fdca26"
             ],
             [
              1,
              "#f0f921"
             ]
            ],
            "type": "histogram2dcontour"
           }
          ],
          "mesh3d": [
           {
            "colorbar": {
             "outlinewidth": 0,
             "ticks": ""
            },
            "type": "mesh3d"
           }
          ],
          "parcoords": [
           {
            "line": {
             "colorbar": {
              "outlinewidth": 0,
              "ticks": ""
             }
            },
            "type": "parcoords"
           }
          ],
          "pie": [
           {
            "automargin": true,
            "type": "pie"
           }
          ],
          "scatter": [
           {
            "marker": {
             "colorbar": {
              "outlinewidth": 0,
              "ticks": ""
             }
            },
            "type": "scatter"
           }
          ],
          "scatter3d": [
           {
            "line": {
             "colorbar": {
              "outlinewidth": 0,
              "ticks": ""
             }
            },
            "marker": {
             "colorbar": {
              "outlinewidth": 0,
              "ticks": ""
             }
            },
            "type": "scatter3d"
           }
          ],
          "scattercarpet": [
           {
            "marker": {
             "colorbar": {
              "outlinewidth": 0,
              "ticks": ""
             }
            },
            "type": "scattercarpet"
           }
          ],
          "scattergeo": [
           {
            "marker": {
             "colorbar": {
              "outlinewidth": 0,
              "ticks": ""
             }
            },
            "type": "scattergeo"
           }
          ],
          "scattergl": [
           {
            "marker": {
             "colorbar": {
              "outlinewidth": 0,
              "ticks": ""
             }
            },
            "type": "scattergl"
           }
          ],
          "scattermapbox": [
           {
            "marker": {
             "colorbar": {
              "outlinewidth": 0,
              "ticks": ""
             }
            },
            "type": "scattermapbox"
           }
          ],
          "scatterpolar": [
           {
            "marker": {
             "colorbar": {
              "outlinewidth": 0,
              "ticks": ""
             }
            },
            "type": "scatterpolar"
           }
          ],
          "scatterpolargl": [
           {
            "marker": {
             "colorbar": {
              "outlinewidth": 0,
              "ticks": ""
             }
            },
            "type": "scatterpolargl"
           }
          ],
          "scatterternary": [
           {
            "marker": {
             "colorbar": {
              "outlinewidth": 0,
              "ticks": ""
             }
            },
            "type": "scatterternary"
           }
          ],
          "surface": [
           {
            "colorbar": {
             "outlinewidth": 0,
             "ticks": ""
            },
            "colorscale": [
             [
              0,
              "#0d0887"
             ],
             [
              0.1111111111111111,
              "#46039f"
             ],
             [
              0.2222222222222222,
              "#7201a8"
             ],
             [
              0.3333333333333333,
              "#9c179e"
             ],
             [
              0.4444444444444444,
              "#bd3786"
             ],
             [
              0.5555555555555556,
              "#d8576b"
             ],
             [
              0.6666666666666666,
              "#ed7953"
             ],
             [
              0.7777777777777778,
              "#fb9f3a"
             ],
             [
              0.8888888888888888,
              "#fdca26"
             ],
             [
              1,
              "#f0f921"
             ]
            ],
            "type": "surface"
           }
          ],
          "table": [
           {
            "cells": {
             "fill": {
              "color": "#EBF0F8"
             },
             "line": {
              "color": "white"
             }
            },
            "header": {
             "fill": {
              "color": "#C8D4E3"
             },
             "line": {
              "color": "white"
             }
            },
            "type": "table"
           }
          ]
         },
         "layout": {
          "annotationdefaults": {
           "arrowcolor": "#2a3f5f",
           "arrowhead": 0,
           "arrowwidth": 1
          },
          "autotypenumbers": "strict",
          "coloraxis": {
           "colorbar": {
            "outlinewidth": 0,
            "ticks": ""
           }
          },
          "colorscale": {
           "diverging": [
            [
             0,
             "#8e0152"
            ],
            [
             0.1,
             "#c51b7d"
            ],
            [
             0.2,
             "#de77ae"
            ],
            [
             0.3,
             "#f1b6da"
            ],
            [
             0.4,
             "#fde0ef"
            ],
            [
             0.5,
             "#f7f7f7"
            ],
            [
             0.6,
             "#e6f5d0"
            ],
            [
             0.7,
             "#b8e186"
            ],
            [
             0.8,
             "#7fbc41"
            ],
            [
             0.9,
             "#4d9221"
            ],
            [
             1,
             "#276419"
            ]
           ],
           "sequential": [
            [
             0,
             "#0d0887"
            ],
            [
             0.1111111111111111,
             "#46039f"
            ],
            [
             0.2222222222222222,
             "#7201a8"
            ],
            [
             0.3333333333333333,
             "#9c179e"
            ],
            [
             0.4444444444444444,
             "#bd3786"
            ],
            [
             0.5555555555555556,
             "#d8576b"
            ],
            [
             0.6666666666666666,
             "#ed7953"
            ],
            [
             0.7777777777777778,
             "#fb9f3a"
            ],
            [
             0.8888888888888888,
             "#fdca26"
            ],
            [
             1,
             "#f0f921"
            ]
           ],
           "sequentialminus": [
            [
             0,
             "#0d0887"
            ],
            [
             0.1111111111111111,
             "#46039f"
            ],
            [
             0.2222222222222222,
             "#7201a8"
            ],
            [
             0.3333333333333333,
             "#9c179e"
            ],
            [
             0.4444444444444444,
             "#bd3786"
            ],
            [
             0.5555555555555556,
             "#d8576b"
            ],
            [
             0.6666666666666666,
             "#ed7953"
            ],
            [
             0.7777777777777778,
             "#fb9f3a"
            ],
            [
             0.8888888888888888,
             "#fdca26"
            ],
            [
             1,
             "#f0f921"
            ]
           ]
          },
          "colorway": [
           "#636efa",
           "#EF553B",
           "#00cc96",
           "#ab63fa",
           "#FFA15A",
           "#19d3f3",
           "#FF6692",
           "#B6E880",
           "#FF97FF",
           "#FECB52"
          ],
          "font": {
           "color": "#2a3f5f"
          },
          "geo": {
           "bgcolor": "white",
           "lakecolor": "white",
           "landcolor": "#E5ECF6",
           "showlakes": true,
           "showland": true,
           "subunitcolor": "white"
          },
          "hoverlabel": {
           "align": "left"
          },
          "hovermode": "closest",
          "mapbox": {
           "style": "light"
          },
          "paper_bgcolor": "white",
          "plot_bgcolor": "#E5ECF6",
          "polar": {
           "angularaxis": {
            "gridcolor": "white",
            "linecolor": "white",
            "ticks": ""
           },
           "bgcolor": "#E5ECF6",
           "radialaxis": {
            "gridcolor": "white",
            "linecolor": "white",
            "ticks": ""
           }
          },
          "scene": {
           "xaxis": {
            "backgroundcolor": "#E5ECF6",
            "gridcolor": "white",
            "gridwidth": 2,
            "linecolor": "white",
            "showbackground": true,
            "ticks": "",
            "zerolinecolor": "white"
           },
           "yaxis": {
            "backgroundcolor": "#E5ECF6",
            "gridcolor": "white",
            "gridwidth": 2,
            "linecolor": "white",
            "showbackground": true,
            "ticks": "",
            "zerolinecolor": "white"
           },
           "zaxis": {
            "backgroundcolor": "#E5ECF6",
            "gridcolor": "white",
            "gridwidth": 2,
            "linecolor": "white",
            "showbackground": true,
            "ticks": "",
            "zerolinecolor": "white"
           }
          },
          "shapedefaults": {
           "line": {
            "color": "#2a3f5f"
           }
          },
          "ternary": {
           "aaxis": {
            "gridcolor": "white",
            "linecolor": "white",
            "ticks": ""
           },
           "baxis": {
            "gridcolor": "white",
            "linecolor": "white",
            "ticks": ""
           },
           "bgcolor": "#E5ECF6",
           "caxis": {
            "gridcolor": "white",
            "linecolor": "white",
            "ticks": ""
           }
          },
          "title": {
           "x": 0.05
          },
          "xaxis": {
           "automargin": true,
           "gridcolor": "white",
           "linecolor": "white",
           "ticks": "",
           "title": {
            "standoff": 15
           },
           "zerolinecolor": "white",
           "zerolinewidth": 2
          },
          "yaxis": {
           "automargin": true,
           "gridcolor": "white",
           "linecolor": "white",
           "ticks": "",
           "title": {
            "standoff": 15
           },
           "zerolinecolor": "white",
           "zerolinewidth": 2
          }
         }
        }
       }
      }
     },
     "metadata": {},
     "output_type": "display_data"
    }
   ],
   "source": [
    "import plotly.graph_objects as go\n",
    "fig = go.Figure(data=[go.Pie(labels=y.unique(), values=y.groupby(y).count(), hole=.3)])\n",
    "fig.update_layout(legend=dict(orientation=\"h\", yanchor=\"bottom\",y=1.02,xanchor=\"right\",x=1))\n",
    "\n",
    "fig.show()"
   ]
  },
  {
   "cell_type": "markdown",
   "id": "8ed0a1e3",
   "metadata": {},
   "source": [
    "Due to the imbalance of the class, it was decided to incorporate the stratification function to improve the robustness of the results."
   ]
  },
  {
   "cell_type": "code",
   "execution_count": 18,
   "id": "2bb95753",
   "metadata": {},
   "outputs": [],
   "source": [
    "#### Creacion de funcion para uso futuro\n",
    "\n",
    "def Calculo_Metricas(TTest, TPred):\n",
    "    y_T = TTest\n",
    "    y_P = TPred\n",
    "    \n",
    "    #calculamos cada metrica\n",
    "    \n",
    "    # Accuracy\n",
    "    Accuracy=(accuracy_score(y_T, y_P)).round(2)\n",
    "    \n",
    "    # confusion_matrix\n",
    "    confusion = confusion_matrix(y_T, y_P)\n",
    "    \n",
    "    # apertura de la Matriz\n",
    "    TP = confusion[1, 1]\n",
    "    TN = confusion[0, 0]\n",
    "    FP = confusion[0, 1]\n",
    "    FN = confusion[1, 0]\n",
    "    \n",
    "    # Recall\n",
    "    Recall = (recall_score(y_T, y_P)).round(2)\n",
    "    \n",
    "    # Specificity\n",
    "    specificity = (TN / (TN + FP)).round(2)\n",
    "    \n",
    "    # Precision\n",
    "    Precision = (precision_score(y_T, y_P)).round(2)\n",
    "    \n",
    "    # False positive rate\n",
    "    FPR = (1-specificity).round(2)\n",
    "\n",
    "    #  F1-Score\n",
    "    F1Score = (f1_score(y_T,y_P)).round(2)\n",
    "    \n",
    "    return Accuracy, confusion, Recall, specificity, Precision, FPR, F1Score"
   ]
  },
  {
   "cell_type": "markdown",
   "id": "c2965e65",
   "metadata": {},
   "source": [
    "#### 4.1 KNN"
   ]
  },
  {
   "cell_type": "code",
   "execution_count": 19,
   "id": "4891935f",
   "metadata": {},
   "outputs": [],
   "source": [
    "# Separacion en set de testeo y train para evaluar el modelo\n",
    "X_train, X_test, y_train, y_test = train_test_split(X, y, stratify=y, shuffle= True, random_state = 0)"
   ]
  },
  {
   "cell_type": "code",
   "execution_count": 20,
   "id": "ed278393",
   "metadata": {},
   "outputs": [],
   "source": [
    "from sklearn.model_selection import GridSearchCV\n",
    "knn = KNeighborsClassifier()\n",
    "k_range = list(range(1, 40))\n",
    "param_grid = dict(n_neighbors=k_range)\n"
   ]
  },
  {
   "cell_type": "code",
   "execution_count": 21,
   "id": "72d805c8",
   "metadata": {},
   "outputs": [
    {
     "name": "stdout",
     "output_type": "stream",
     "text": [
      "{'metric': ['manhattan', 'euclidean']}\n"
     ]
    }
   ],
   "source": [
    "metricas=['manhattan','euclidean']\n",
    "metric_dic=dict(metric=metricas)\n",
    "print (metric_dic)"
   ]
  },
  {
   "cell_type": "code",
   "execution_count": 22,
   "id": "5c551ee0",
   "metadata": {},
   "outputs": [
    {
     "name": "stdout",
     "output_type": "stream",
     "text": [
      "{'n_neighbors': [1, 2, 3, 4, 5, 6, 7, 8, 9, 10, 11, 12, 13, 14, 15, 16, 17, 18, 19, 20, 21, 22, 23, 24, 25, 26, 27, 28, 29, 30, 31, 32, 33, 34, 35, 36, 37, 38, 39], 'metric': ['manhattan', 'euclidean']}\n"
     ]
    }
   ],
   "source": [
    "param_grid.update(metric_dic)\n",
    "print(param_grid)"
   ]
  },
  {
   "cell_type": "code",
   "execution_count": 23,
   "id": "58bec013",
   "metadata": {},
   "outputs": [],
   "source": [
    "from sklearn.model_selection import StratifiedKFold\n",
    "folds=StratifiedKFold(n_splits=10, random_state=19, shuffle=True)"
   ]
  },
  {
   "cell_type": "code",
   "execution_count": 24,
   "id": "c795bce3",
   "metadata": {},
   "outputs": [],
   "source": [
    "grid = GridSearchCV(knn, param_grid, cv=folds, scoring='recall') "
   ]
  },
  {
   "cell_type": "code",
   "execution_count": 25,
   "id": "40883d8e",
   "metadata": {},
   "outputs": [
    {
     "data": {
      "text/plain": [
       "GridSearchCV(cv=StratifiedKFold(n_splits=10, random_state=19, shuffle=True),\n",
       "             estimator=KNeighborsClassifier(),\n",
       "             param_grid={'metric': ['manhattan', 'euclidean'],\n",
       "                         'n_neighbors': [1, 2, 3, 4, 5, 6, 7, 8, 9, 10, 11, 12,\n",
       "                                         13, 14, 15, 16, 17, 18, 19, 20, 21, 22,\n",
       "                                         23, 24, 25, 26, 27, 28, 29, 30, ...]},\n",
       "             scoring='recall')"
      ]
     },
     "execution_count": 25,
     "metadata": {},
     "output_type": "execute_result"
    }
   ],
   "source": [
    "grid.fit(X_train, y_train)"
   ]
  },
  {
   "cell_type": "code",
   "execution_count": 26,
   "id": "6ee7d3b6",
   "metadata": {},
   "outputs": [
    {
     "data": {
      "text/plain": [
       "KNeighborsClassifier(metric='manhattan')"
      ]
     },
     "execution_count": 26,
     "metadata": {},
     "output_type": "execute_result"
    }
   ],
   "source": [
    "grid.best_estimator_"
   ]
  },
  {
   "cell_type": "markdown",
   "id": "df4b8a50",
   "metadata": {},
   "source": [
    "KNN with best parameters "
   ]
  },
  {
   "cell_type": "code",
   "execution_count": 27,
   "id": "984b7155",
   "metadata": {},
   "outputs": [],
   "source": [
    "knn = KNeighborsClassifier(metric='manhattan', n_neighbors=13)\n",
    "X_train, X_test, y_train, y_test = train_test_split(X, y,stratify=y,random_state=2)\n",
    "scaler = StandardScaler()\n",
    "X_train = scaler.fit_transform(X_train)\n",
    "knn.fit(X_train, y_train);\n",
    "X_test=scaler.fit_transform(X_test) \n",
    "y_pred = knn.predict(X_test)\n",
    "\n",
    "#LLamamos a la funcion para calcular las metricas\n",
    "resultados_metricas=Calculo_Metricas(y_test, y_pred)\n",
    "\n",
    "y_pred_knn_proba = knn.predict_proba(X_test)"
   ]
  },
  {
   "cell_type": "code",
   "execution_count": 28,
   "id": "51e0567c",
   "metadata": {},
   "outputs": [],
   "source": [
    "# Se arma el cuadro comparativo entre modelos y metricas\n",
    "columna = ['KNN'] # definimos el nombre de la columna\n",
    "filas = ['Accuracy','TP','TN','FP','FN','Recall','Specificity','Precision','FPR', 'F1-Score'] # definimos los nombres de las filas\n",
    "Valores = [resultados_metricas[0], resultados_metricas[1][1,1], resultados_metricas[1][0,0], \n",
    "           resultados_metricas[1][0,1], resultados_metricas[1][1,0], resultados_metricas[2], \n",
    "           resultados_metricas[3], resultados_metricas[4], resultados_metricas[5], resultados_metricas[6]]\n",
    "\n",
    "Metricas = pd.DataFrame(Valores, columns=columna, index=filas)"
   ]
  },
  {
   "cell_type": "code",
   "execution_count": 29,
   "id": "729d9ce3",
   "metadata": {},
   "outputs": [
    {
     "data": {
      "text/html": [
       "<div>\n",
       "<style scoped>\n",
       "    .dataframe tbody tr th:only-of-type {\n",
       "        vertical-align: middle;\n",
       "    }\n",
       "\n",
       "    .dataframe tbody tr th {\n",
       "        vertical-align: top;\n",
       "    }\n",
       "\n",
       "    .dataframe thead th {\n",
       "        text-align: right;\n",
       "    }\n",
       "</style>\n",
       "<table border=\"1\" class=\"dataframe\">\n",
       "  <thead>\n",
       "    <tr style=\"text-align: right;\">\n",
       "      <th></th>\n",
       "      <th>KNN</th>\n",
       "    </tr>\n",
       "  </thead>\n",
       "  <tbody>\n",
       "    <tr>\n",
       "      <th>Accuracy</th>\n",
       "      <td>0.67</td>\n",
       "    </tr>\n",
       "    <tr>\n",
       "      <th>TP</th>\n",
       "      <td>134.00</td>\n",
       "    </tr>\n",
       "    <tr>\n",
       "      <th>TN</th>\n",
       "      <td>63.00</td>\n",
       "    </tr>\n",
       "    <tr>\n",
       "      <th>FP</th>\n",
       "      <td>49.00</td>\n",
       "    </tr>\n",
       "    <tr>\n",
       "      <th>FN</th>\n",
       "      <td>46.00</td>\n",
       "    </tr>\n",
       "    <tr>\n",
       "      <th>Recall</th>\n",
       "      <td>0.74</td>\n",
       "    </tr>\n",
       "    <tr>\n",
       "      <th>Specificity</th>\n",
       "      <td>0.56</td>\n",
       "    </tr>\n",
       "    <tr>\n",
       "      <th>Precision</th>\n",
       "      <td>0.73</td>\n",
       "    </tr>\n",
       "    <tr>\n",
       "      <th>FPR</th>\n",
       "      <td>0.44</td>\n",
       "    </tr>\n",
       "    <tr>\n",
       "      <th>F1-Score</th>\n",
       "      <td>0.74</td>\n",
       "    </tr>\n",
       "  </tbody>\n",
       "</table>\n",
       "</div>"
      ],
      "text/plain": [
       "                KNN\n",
       "Accuracy       0.67\n",
       "TP           134.00\n",
       "TN            63.00\n",
       "FP            49.00\n",
       "FN            46.00\n",
       "Recall         0.74\n",
       "Specificity    0.56\n",
       "Precision      0.73\n",
       "FPR            0.44\n",
       "F1-Score       0.74"
      ]
     },
     "execution_count": 29,
     "metadata": {},
     "output_type": "execute_result"
    }
   ],
   "source": [
    "Metricas"
   ]
  },
  {
   "cell_type": "markdown",
   "id": "73319c3e",
   "metadata": {},
   "source": [
    "This models had a recall= 0.74 and F1-Score = 0.74 "
   ]
  },
  {
   "cell_type": "markdown",
   "id": "b5a57336",
   "metadata": {},
   "source": [
    "<a id=\"NB\"></a>\n",
    "<h2> 4.2. Naive Bayes</h2>\n",
    "A multinomialNB was used to this project"
   ]
  },
  {
   "cell_type": "code",
   "execution_count": 30,
   "id": "2004cda3",
   "metadata": {},
   "outputs": [],
   "source": [
    "from sklearn.naive_bayes import MultinomialNB"
   ]
  },
  {
   "cell_type": "code",
   "execution_count": 31,
   "id": "80fa3be3",
   "metadata": {},
   "outputs": [],
   "source": [
    "X_train, X_test, y_train, y_test = train_test_split(X, y,stratify = y,random_state=2)"
   ]
  },
  {
   "cell_type": "code",
   "execution_count": 32,
   "id": "368591db",
   "metadata": {},
   "outputs": [
    {
     "data": {
      "text/plain": [
       "MultinomialNB()"
      ]
     },
     "execution_count": 32,
     "metadata": {},
     "output_type": "execute_result"
    }
   ],
   "source": [
    "model = MultinomialNB()\n",
    "model.fit(X_train, y_train)"
   ]
  },
  {
   "cell_type": "code",
   "execution_count": 33,
   "id": "289bc31f",
   "metadata": {},
   "outputs": [
    {
     "data": {
      "text/plain": [
       "0.6404109589041096"
      ]
     },
     "execution_count": 33,
     "metadata": {},
     "output_type": "execute_result"
    }
   ],
   "source": [
    "model.score(X_test, y_test)"
   ]
  },
  {
   "cell_type": "code",
   "execution_count": 34,
   "id": "f3bf819a",
   "metadata": {},
   "outputs": [],
   "source": [
    "y_pred = model.predict(X_test)"
   ]
  },
  {
   "cell_type": "code",
   "execution_count": 35,
   "id": "4882c4e4",
   "metadata": {},
   "outputs": [
    {
     "name": "stdout",
     "output_type": "stream",
     "text": [
      "                KNN  MultinomialNB\n",
      "Accuracy       0.67           0.64\n",
      "TP           134.00         118.00\n",
      "TN            63.00          69.00\n",
      "FP            49.00          43.00\n",
      "FN            46.00          62.00\n",
      "Recall         0.74           0.66\n",
      "Specificity    0.56           0.62\n",
      "Precision      0.73           0.73\n",
      "FPR            0.44           0.38\n",
      "F1-Score       0.74           0.69\n"
     ]
    }
   ],
   "source": [
    "# Generacion de función para calcular las metricas\n",
    "resultados_metricas=Calculo_Metricas(y_test, y_pred)\n",
    "\n",
    "y_pred_MultinomialNB_proba = model.predict_proba(X_test)\n",
    "\n",
    "#Agregamos los datos del modelo al cuadro comparativo\n",
    "\n",
    "Valores = [resultados_metricas[0], resultados_metricas[1][1,1], resultados_metricas[1][0,0], \n",
    "           resultados_metricas[1][0,1], resultados_metricas[1][1,0], resultados_metricas[2], \n",
    "           resultados_metricas[3], resultados_metricas[4], resultados_metricas[5], resultados_metricas[6]]\n",
    "\n",
    "Metricas.insert(1, \"MultinomialNB\", Valores, allow_duplicates=False)\n",
    "print(Metricas)"
   ]
  },
  {
   "cell_type": "markdown",
   "id": "f0751b56",
   "metadata": {},
   "source": [
    "<a id=\"GB\"></a>\n",
    "<h2> 4.3. GaussianNB</h2>"
   ]
  },
  {
   "cell_type": "code",
   "execution_count": 36,
   "id": "0bf6106e",
   "metadata": {},
   "outputs": [],
   "source": [
    "from sklearn.naive_bayes import GaussianNB"
   ]
  },
  {
   "cell_type": "code",
   "execution_count": 37,
   "id": "c2e5136a",
   "metadata": {},
   "outputs": [
    {
     "data": {
      "text/plain": [
       "GaussianNB()"
      ]
     },
     "execution_count": 37,
     "metadata": {},
     "output_type": "execute_result"
    }
   ],
   "source": [
    "gnb = GaussianNB()\n",
    "gnb.fit(X_train, y_train)"
   ]
  },
  {
   "cell_type": "code",
   "execution_count": 38,
   "id": "b4790d6f",
   "metadata": {},
   "outputs": [],
   "source": [
    "y_pred = gnb.predict(X_test)"
   ]
  },
  {
   "cell_type": "code",
   "execution_count": 39,
   "id": "3a44aabc",
   "metadata": {},
   "outputs": [
    {
     "name": "stdout",
     "output_type": "stream",
     "text": [
      "                KNN  MultinomialNB  GaussianNB\n",
      "Accuracy       0.67           0.64        0.64\n",
      "TP           134.00         118.00      100.00\n",
      "TN            63.00          69.00       88.00\n",
      "FP            49.00          43.00       24.00\n",
      "FN            46.00          62.00       80.00\n",
      "Recall         0.74           0.66        0.56\n",
      "Specificity    0.56           0.62        0.79\n",
      "Precision      0.73           0.73        0.81\n",
      "FPR            0.44           0.38        0.21\n",
      "F1-Score       0.74           0.69        0.66\n"
     ]
    }
   ],
   "source": [
    "#LLamamos a la funcion para calcular las petricas\n",
    "resultados_metricas=Calculo_Metricas(y_test, y_pred)\n",
    "\n",
    "y_pred_GaussianNB_proba = gnb.predict_proba(X_test)\n",
    "\n",
    "#Agregamos los datos del modelo al cuadro comparativo\n",
    "\n",
    "Valores = [resultados_metricas[0], resultados_metricas[1][1,1], resultados_metricas[1][0,0], \n",
    "           resultados_metricas[1][0,1], resultados_metricas[1][1,0], resultados_metricas[2], \n",
    "           resultados_metricas[3], resultados_metricas[4], resultados_metricas[5], resultados_metricas[6]]\n",
    "\n",
    "Metricas.insert(Metricas.shape[1], \"GaussianNB\", Valores, allow_duplicates=False)\n",
    "print(Metricas)"
   ]
  },
  {
   "cell_type": "markdown",
   "id": "caf11baf",
   "metadata": {},
   "source": [
    "<a id=\"RL\"></a>\n",
    "<h2> 4.4. Logistic Regression</h2>"
   ]
  },
  {
   "cell_type": "code",
   "execution_count": 40,
   "id": "17391e65",
   "metadata": {},
   "outputs": [],
   "source": [
    "from sklearn.linear_model import LogisticRegression\n",
    "from sklearn.metrics import accuracy_score, confusion_matrix"
   ]
  },
  {
   "cell_type": "code",
   "execution_count": 41,
   "id": "7f1ba997",
   "metadata": {},
   "outputs": [],
   "source": [
    "X_train, X_test, y_train, y_test = train_test_split(X, y,stratify=y,random_state=2)"
   ]
  },
  {
   "cell_type": "code",
   "execution_count": 42,
   "id": "e5f4f0a3",
   "metadata": {},
   "outputs": [
    {
     "data": {
      "text/plain": [
       "LogisticRegression(max_iter=100000, penalty='none')"
      ]
     },
     "execution_count": 42,
     "metadata": {},
     "output_type": "execute_result"
    }
   ],
   "source": [
    "logistic_regression = LogisticRegression(penalty='none', max_iter=100000)\n",
    "logistic_regression.fit(X_train, y_train)"
   ]
  },
  {
   "cell_type": "code",
   "execution_count": 43,
   "id": "aa9bf666",
   "metadata": {},
   "outputs": [],
   "source": [
    "y_test_pred = logistic_regression.predict(X_test)"
   ]
  },
  {
   "cell_type": "code",
   "execution_count": 44,
   "id": "ca93042b",
   "metadata": {},
   "outputs": [
    {
     "name": "stdout",
     "output_type": "stream",
     "text": [
      "                KNN  MultinomialNB  GaussianNB  Reg. Log.\n",
      "Accuracy       0.67           0.64        0.64       0.67\n",
      "TP           134.00         118.00      100.00     139.00\n",
      "TN            63.00          69.00       88.00      57.00\n",
      "FP            49.00          43.00       24.00      55.00\n",
      "FN            46.00          62.00       80.00      41.00\n",
      "Recall         0.74           0.66        0.56       0.77\n",
      "Specificity    0.56           0.62        0.79       0.51\n",
      "Precision      0.73           0.73        0.81       0.72\n",
      "FPR            0.44           0.38        0.21       0.49\n",
      "F1-Score       0.74           0.69        0.66       0.74\n"
     ]
    }
   ],
   "source": [
    "#LLamamos a la funcion para calcular las metricas\n",
    "resultados_metricas=Calculo_Metricas(y_test, y_test_pred)\n",
    "\n",
    "#Agregamos los datos del modelo al cuadro comparativo\n",
    "\n",
    "Valores = [resultados_metricas[0], resultados_metricas[1][1,1], resultados_metricas[1][0,0], \n",
    "           resultados_metricas[1][0,1], resultados_metricas[1][1,0], resultados_metricas[2], \n",
    "           resultados_metricas[3], resultados_metricas[4], resultados_metricas[5], resultados_metricas[6]]\n",
    "\n",
    "Metricas.insert(Metricas.shape[1], \"Reg. Log.\", Valores, allow_duplicates=False)\n",
    "print(Metricas)"
   ]
  },
  {
   "cell_type": "code",
   "execution_count": 45,
   "id": "31eaa36a",
   "metadata": {},
   "outputs": [
    {
     "data": {
      "text/plain": [
       "{'C': 1.0,\n",
       " 'class_weight': None,\n",
       " 'dual': False,\n",
       " 'fit_intercept': True,\n",
       " 'intercept_scaling': 1,\n",
       " 'l1_ratio': None,\n",
       " 'max_iter': 100000,\n",
       " 'multi_class': 'auto',\n",
       " 'n_jobs': None,\n",
       " 'penalty': 'none',\n",
       " 'random_state': None,\n",
       " 'solver': 'lbfgs',\n",
       " 'tol': 0.0001,\n",
       " 'verbose': 0,\n",
       " 'warm_start': False}"
      ]
     },
     "execution_count": 45,
     "metadata": {},
     "output_type": "execute_result"
    }
   ],
   "source": [
    "logistic_regression.get_params()"
   ]
  },
  {
   "cell_type": "code",
   "execution_count": 46,
   "id": "0d4ec987",
   "metadata": {},
   "outputs": [],
   "source": [
    "y_pred_RegLog_proba = logistic_regression.predict_proba(X_test)"
   ]
  },
  {
   "cell_type": "code",
   "execution_count": 47,
   "id": "82c509d7",
   "metadata": {},
   "outputs": [
    {
     "data": {
      "text/plain": [
       "array([[ 57,  55],\n",
       "       [ 41, 139]], dtype=int64)"
      ]
     },
     "execution_count": 47,
     "metadata": {},
     "output_type": "execute_result"
    }
   ],
   "source": [
    "confusion_matrix(y_test, y_test_pred)"
   ]
  },
  {
   "cell_type": "code",
   "execution_count": 48,
   "id": "a1ff0ec9",
   "metadata": {},
   "outputs": [],
   "source": [
    "# Se utiliza sklearn para estandarizar la matriz de Features\n",
    "from sklearn.preprocessing import StandardScaler\n",
    "scaler = StandardScaler()\n",
    "X_train_scaled = scaler.fit_transform(X_train)"
   ]
  },
  {
   "cell_type": "code",
   "execution_count": 49,
   "id": "77e5db8d",
   "metadata": {},
   "outputs": [],
   "source": [
    "import statsmodels.api as sm\n",
    "X_train_stats = sm.add_constant(X_train_scaled)"
   ]
  },
  {
   "cell_type": "code",
   "execution_count": 50,
   "id": "faedad3a",
   "metadata": {},
   "outputs": [
    {
     "name": "stdout",
     "output_type": "stream",
     "text": [
      "Optimization terminated successfully.\n",
      "         Current function value: 0.534546\n",
      "         Iterations 7\n",
      "                         Results: Logit\n",
      "=================================================================\n",
      "Model:              Logit            Pseudo R-squared: 0.196     \n",
      "Dependent Variable: target_5yrs      AIC:              976.5249  \n",
      "Date:               2022-04-27 13:58 BIC:              1072.0322 \n",
      "No. Observations:   876              Log-Likelihood:   -468.26   \n",
      "Df Model:           19               LL-Null:          -582.27   \n",
      "Df Residuals:       856              LLR p-value:      8.5041e-38\n",
      "Converged:          1.0000           Scale:            1.0000    \n",
      "No. Iterations:     7.0000                                       \n",
      "-------------------------------------------------------------------\n",
      "          Coef.    Std.Err.      z      P>|z|     [0.025     0.975]\n",
      "-------------------------------------------------------------------\n",
      "const     0.6707     0.0873    7.6866   0.0000     0.4997    0.8417\n",
      "x1        0.6165     0.1032    5.9716   0.0000     0.4142    0.8189\n",
      "x2       -0.5992     0.3458   -1.7327   0.0832    -1.2771    0.0786\n",
      "x3        3.4510     4.6584    0.7408   0.4588    -5.6793   12.5814\n",
      "x4       -3.8527     3.5967   -1.0712   0.2841   -10.9022    3.1968\n",
      "x5        1.4706     1.0595    1.3880   0.1651    -0.6061    3.5473\n",
      "x6        0.2467     0.1730    1.4259   0.1539    -0.0924    0.5859\n",
      "x7        1.8249     0.6799    2.6840   0.0073     0.4923    3.1576\n",
      "x8       -2.2184     0.5870   -3.7791   0.0002    -3.3689   -1.0679\n",
      "x9        0.0755     0.1062    0.7108   0.4772    -0.1326    0.2836\n",
      "x10      -0.3025     1.2134   -0.2493   0.8032    -2.6806    2.0757\n",
      "x11      -0.1804     0.7810   -0.2309   0.8174    -1.7111    1.3504\n",
      "x12       0.1042     0.1329    0.7843   0.4329    -0.1562    0.3647\n",
      "x13       0.1090     1.1712    0.0931   0.9258    -2.1865    2.4045\n",
      "x14      -0.9800     2.1105   -0.4643   0.6424    -5.1165    3.1566\n",
      "x15       1.4614     3.1228    0.4680   0.6398    -4.6591    7.5820\n",
      "x16       0.4620     0.2018    2.2891   0.0221     0.0664    0.8575\n",
      "x17      -0.0812     0.1613   -0.5032   0.6148    -0.3973    0.2349\n",
      "x18       0.2073     0.1413    1.4674   0.1423    -0.0696    0.4842\n",
      "x19      -0.0244     0.2470   -0.0989   0.9212    -0.5085    0.4596\n",
      "=================================================================\n",
      "\n"
     ]
    }
   ],
   "source": [
    "# Instanciamos la clase\n",
    "logit = sm.Logit(y_train, X_train_stats)\n",
    "# Fiteamos el modelo\n",
    "result = logit.fit()\n",
    "# Imprimimos el resumen\n",
    "print(result.summary2())"
   ]
  },
  {
   "cell_type": "code",
   "execution_count": 51,
   "id": "7b2a9355",
   "metadata": {},
   "outputs": [],
   "source": [
    "X=df.drop(['target_5yrs','name','fta','dreb','oreb','ftm','3pa','3p_made','fga','fgm'], axis=1)"
   ]
  },
  {
   "cell_type": "code",
   "execution_count": 52,
   "id": "ac485938",
   "metadata": {},
   "outputs": [],
   "source": [
    "X_train, X_test, y_train, y_test = train_test_split(X, y,stratify = y,random_state=2)"
   ]
  },
  {
   "cell_type": "code",
   "execution_count": 53,
   "id": "b9c9d387",
   "metadata": {},
   "outputs": [
    {
     "data": {
      "text/plain": [
       "LogisticRegression(max_iter=100000, penalty='none')"
      ]
     },
     "execution_count": 53,
     "metadata": {},
     "output_type": "execute_result"
    }
   ],
   "source": [
    "logistic_regression = LogisticRegression(penalty='none', max_iter=100000)\n",
    "logistic_regression.fit(X_train, y_train)"
   ]
  },
  {
   "cell_type": "code",
   "execution_count": 54,
   "id": "336b56bd",
   "metadata": {},
   "outputs": [],
   "source": [
    "y_test_pred = logistic_regression.predict(X_test)"
   ]
  },
  {
   "cell_type": "code",
   "execution_count": 55,
   "id": "03f76377",
   "metadata": {},
   "outputs": [
    {
     "name": "stdout",
     "output_type": "stream",
     "text": [
      "                KNN  MultinomialNB  GaussianNB  Reg. Log.  Reg. Log. Modific.\n",
      "Accuracy       0.67           0.64        0.64       0.67                0.71\n",
      "TP           134.00         118.00      100.00     139.00              148.00\n",
      "TN            63.00          69.00       88.00      57.00               58.00\n",
      "FP            49.00          43.00       24.00      55.00               54.00\n",
      "FN            46.00          62.00       80.00      41.00               32.00\n",
      "Recall         0.74           0.66        0.56       0.77                0.82\n",
      "Specificity    0.56           0.62        0.79       0.51                0.52\n",
      "Precision      0.73           0.73        0.81       0.72                0.73\n",
      "FPR            0.44           0.38        0.21       0.49                0.48\n",
      "F1-Score       0.74           0.69        0.66       0.74                0.77\n"
     ]
    }
   ],
   "source": [
    "#LLamamos a la funcion para calcular las petricas\n",
    "resultados_metricas=Calculo_Metricas(y_test, y_test_pred)\n",
    "\n",
    "y_pred_RegLogModif_proba = logistic_regression.predict_proba(X_test)\n",
    "\n",
    "#Agregamos los datos del modelo al cuadro comparativo\n",
    "\n",
    "Valores = [resultados_metricas[0], resultados_metricas[1][1,1], resultados_metricas[1][0,0], \n",
    "           resultados_metricas[1][0,1], resultados_metricas[1][1,0], resultados_metricas[2], \n",
    "           resultados_metricas[3], resultados_metricas[4], resultados_metricas[5], resultados_metricas[6]]\n",
    "\n",
    "Metricas.insert(Metricas.shape[1], \"Reg. Log. Modific.\", Valores, allow_duplicates=False)\n",
    "print(Metricas)"
   ]
  },
  {
   "cell_type": "code",
   "execution_count": 56,
   "id": "fc3198af",
   "metadata": {},
   "outputs": [
    {
     "data": {
      "text/plain": [
       "0.7054794520547946"
      ]
     },
     "execution_count": 56,
     "metadata": {},
     "output_type": "execute_result"
    }
   ],
   "source": [
    "accuracy_score(y_test, y_test_pred)"
   ]
  },
  {
   "cell_type": "code",
   "execution_count": 57,
   "id": "72a7ea0b",
   "metadata": {},
   "outputs": [],
   "source": [
    "X_train_scaled = scaler.fit_transform(X_train)"
   ]
  },
  {
   "cell_type": "code",
   "execution_count": 58,
   "id": "c270a3f4",
   "metadata": {},
   "outputs": [],
   "source": [
    "X_train_stats = sm.add_constant(X_train_scaled)"
   ]
  },
  {
   "cell_type": "code",
   "execution_count": 59,
   "id": "e09dcdb2",
   "metadata": {},
   "outputs": [
    {
     "name": "stdout",
     "output_type": "stream",
     "text": [
      "Optimization terminated successfully.\n",
      "         Current function value: 0.548060\n",
      "         Iterations 6\n",
      "                         Results: Logit\n",
      "=================================================================\n",
      "Model:              Logit            Pseudo R-squared: 0.175     \n",
      "Dependent Variable: target_5yrs      AIC:              984.2009  \n",
      "Date:               2022-04-27 13:58 BIC:              1041.5053 \n",
      "No. Observations:   876              Log-Likelihood:   -480.10   \n",
      "Df Model:           11               LL-Null:          -582.27   \n",
      "Df Residuals:       864              LLR p-value:      9.3905e-38\n",
      "Converged:          1.0000           Scale:            1.0000    \n",
      "No. Iterations:     6.0000                                       \n",
      "-------------------------------------------------------------------\n",
      "           Coef.    Std.Err.      z      P>|z|     [0.025    0.975]\n",
      "-------------------------------------------------------------------\n",
      "const      0.6605     0.0855    7.7286   0.0000    0.4930    0.8280\n",
      "x1         0.6113     0.1004    6.0892   0.0000    0.4145    0.8081\n",
      "x2        -0.7681     0.3101   -2.4773   0.0132   -1.3759   -0.1604\n",
      "x3         0.6338     0.2869    2.2096   0.0271    0.0716    1.1960\n",
      "x4         0.2182     0.0982    2.2215   0.0263    0.0257    0.4107\n",
      "x5         0.0703     0.0934    0.7529   0.4515   -0.1127    0.2534\n",
      "x6         0.1095     0.0911    1.2015   0.2295   -0.0691    0.2880\n",
      "x7         0.6080     0.2155    2.8213   0.0048    0.1856    1.0304\n",
      "x8         0.3601     0.1978    1.8209   0.0686   -0.0275    0.7478\n",
      "x9        -0.0730     0.1525   -0.4783   0.6324   -0.3719    0.2260\n",
      "x10        0.1627     0.1401    1.1616   0.2454   -0.1118    0.4372\n",
      "x11        0.0122     0.2323    0.0525   0.9581   -0.4431    0.4675\n",
      "=================================================================\n",
      "\n"
     ]
    }
   ],
   "source": [
    "# Instanciamos la clase\n",
    "logit = sm.Logit(y_train, X_train_stats)\n",
    "# Fiteamos el modelo\n",
    "result = logit.fit()\n",
    "# Imprimimos el resumen\n",
    "print(result.summary2())"
   ]
  },
  {
   "cell_type": "markdown",
   "id": "7c101aeb",
   "metadata": {},
   "source": [
    "<h2> 5. Results</h2>"
   ]
  },
  {
   "cell_type": "code",
   "execution_count": 60,
   "id": "4e1f23d4",
   "metadata": {},
   "outputs": [
    {
     "name": "stdout",
     "output_type": "stream",
     "text": [
      "              precision    recall  f1-score   support\n",
      "\n",
      "         0.0       0.52      0.79      0.63       112\n",
      "         1.0       0.81      0.56      0.66       180\n",
      "\n",
      "    accuracy                           0.64       292\n",
      "   macro avg       0.67      0.67      0.64       292\n",
      "weighted avg       0.70      0.64      0.65       292\n",
      "\n"
     ]
    }
   ],
   "source": [
    "print (classification_report(y_test, y_pred))"
   ]
  },
  {
   "cell_type": "code",
   "execution_count": 61,
   "id": "c29970d9",
   "metadata": {},
   "outputs": [
    {
     "data": {
      "image/png": "[encoded data removed]",
      "text/plain": [
       "<Figure size 432x288 with 1 Axes>"
      ]
     },
     "metadata": {},
     "output_type": "display_data"
    }
   ],
   "source": [
    "# ROC Curve y AUC\n",
    "# y_pred_proba = logistic_regression.predict_proba(X_test)\n",
    "\n",
    "from sklearn.metrics import roc_curve\n",
    "fpr_knn,tpr_knn,thr_knn = roc_curve(y_test, y_pred_RegLogModif_proba[:,1])\n",
    "\n",
    "df = pd.DataFrame(dict(fpr=fpr_knn, tpr=tpr_knn, thr = thr_knn))\n",
    "\n",
    "plt.axis([0, 1.01, 0, 1.01])\n",
    "plt.xlabel('1 - Specificty')\n",
    "plt.ylabel('TPR / Sensitivity')\n",
    "plt.title('ROC Curve')\n",
    "plt.plot(df['fpr'],df['tpr'])\n",
    "plt.plot(np.arange(0,1, step =0.01), np.arange(0,1, step =0.01))\n",
    "plt.show()"
   ]
  },
  {
   "cell_type": "code",
   "execution_count": 62,
   "id": "b265fa69",
   "metadata": {},
   "outputs": [
    {
     "name": "stdout",
     "output_type": "stream",
     "text": [
      "AUC= 0.7462301587301587\n"
     ]
    }
   ],
   "source": [
    "from sklearn.metrics import auc\n",
    "print('AUC=', auc(fpr_knn, tpr_knn))"
   ]
  },
  {
   "cell_type": "code",
   "execution_count": 63,
   "id": "a260d1b9",
   "metadata": {},
   "outputs": [
    {
     "data": {
      "text/plain": [
       "1    202\n",
       "0     90\n",
       "dtype: int64"
      ]
     },
     "execution_count": 63,
     "metadata": {},
     "output_type": "execute_result"
    }
   ],
   "source": [
    "# Pertenencia a partir de las probabilidades\n",
    "pd.Series(y_pred_RegLogModif_proba[:,1]>0.5).astype(int).value_counts()"
   ]
  },
  {
   "cell_type": "code",
   "execution_count": 64,
   "id": "c163cea9",
   "metadata": {},
   "outputs": [
    {
     "data": {
      "text/plain": [
       "0.0    168\n",
       "1.0    124\n",
       "dtype: int64"
      ]
     },
     "execution_count": 64,
     "metadata": {},
     "output_type": "execute_result"
    }
   ],
   "source": [
    "# Pertenencia calculada a partir del método .predict()\n",
    "pd.Series(y_pred).value_counts()"
   ]
  },
  {
   "cell_type": "code",
   "execution_count": 65,
   "id": "5e59c186",
   "metadata": {},
   "outputs": [],
   "source": [
    "from sklearn.preprocessing import binarize\n",
    "y_pred_03 = binarize(y_pred_RegLogModif_proba, threshold=0.3)[:,1]"
   ]
  },
  {
   "cell_type": "code",
   "execution_count": 66,
   "id": "23ee7bb5",
   "metadata": {},
   "outputs": [],
   "source": [
    "y_pred_03 = (y_pred_RegLogModif_proba[:,1] > 0.3).astype(int)"
   ]
  },
  {
   "cell_type": "code",
   "execution_count": 67,
   "id": "2ece01cd",
   "metadata": {},
   "outputs": [
    {
     "name": "stdout",
     "output_type": "stream",
     "text": [
      "Matrix Original\n"
     ]
    },
    {
     "data": {
      "text/plain": [
       "array([[ 88,  24],\n",
       "       [ 80, 100]], dtype=int64)"
      ]
     },
     "metadata": {},
     "output_type": "display_data"
    },
    {
     "name": "stdout",
     "output_type": "stream",
     "text": [
      "\n",
      "Nueva Matrix\n"
     ]
    },
    {
     "data": {
      "text/plain": [
       "array([[ 27,  85],\n",
       "       [  7, 173]], dtype=int64)"
      ]
     },
     "metadata": {},
     "output_type": "display_data"
    }
   ],
   "source": [
    "print('Matrix Original')\n",
    "display(confusion_matrix(y_test,y_pred))\n",
    "print('')\n",
    "print('Nueva Matrix')\n",
    "display(confusion_matrix(y_test,y_pred_03))"
   ]
  },
  {
   "cell_type": "code",
   "execution_count": 68,
   "id": "04a511c9",
   "metadata": {},
   "outputs": [
    {
     "name": "stdout",
     "output_type": "stream",
     "text": [
      "                KNN  MultinomialNB  GaussianNB  Reg. Log.  Reg. Log. Modific.  \\\n",
      "Accuracy       0.67           0.64        0.64       0.67                0.71   \n",
      "TP           134.00         118.00      100.00     139.00              148.00   \n",
      "TN            63.00          69.00       88.00      57.00               58.00   \n",
      "FP            49.00          43.00       24.00      55.00               54.00   \n",
      "FN            46.00          62.00       80.00      41.00               32.00   \n",
      "Recall         0.74           0.66        0.56       0.77                0.82   \n",
      "Specificity    0.56           0.62        0.79       0.51                0.52   \n",
      "Precision      0.73           0.73        0.81       0.72                0.73   \n",
      "FPR            0.44           0.38        0.21       0.49                0.48   \n",
      "F1-Score       0.74           0.69        0.66       0.74                0.77   \n",
      "\n",
      "             Reg. Log. umbral0.3  \n",
      "Accuracy                    0.68  \n",
      "TP                        173.00  \n",
      "TN                         27.00  \n",
      "FP                         85.00  \n",
      "FN                          7.00  \n",
      "Recall                      0.96  \n",
      "Specificity                 0.24  \n",
      "Precision                   0.67  \n",
      "FPR                         0.76  \n",
      "F1-Score                    0.79  \n"
     ]
    }
   ],
   "source": [
    "#LLamamos a la funcion para calcular las petricas\n",
    "resultados_metricas=Calculo_Metricas(y_test, y_pred_03)\n",
    "\n",
    "#Agregamos los datos del modelo al cuadro comparativo\n",
    "\n",
    "Valores = [resultados_metricas[0], resultados_metricas[1][1,1], resultados_metricas[1][0,0], \n",
    "           resultados_metricas[1][0,1], resultados_metricas[1][1,0], resultados_metricas[2], \n",
    "           resultados_metricas[3], resultados_metricas[4], resultados_metricas[5], resultados_metricas[6]]\n",
    "\n",
    "Metricas.insert(Metricas.shape[1], \"Reg. Log. umbral0.3\", Valores, allow_duplicates=False)\n",
    "print(Metricas)"
   ]
  },
  {
   "cell_type": "code",
   "execution_count": 69,
   "id": "b234a4af",
   "metadata": {},
   "outputs": [
    {
     "data": {
      "image/png": "[encoded data removed]",
      "text/plain": [
       "<Figure size 432x288 with 1 Axes>"
      ]
     },
     "metadata": {},
     "output_type": "display_data"
    }
   ],
   "source": [
    "# # ROC Curve y AUC\n",
    "# y_pred_proba = logistic_regression.predict_proba(X_test)\n",
    "\n",
    "from sklearn.metrics import roc_curve\n",
    "fpr_knn,tpr_knn,thr_knn = roc_curve(y_test, y_pred_03)\n",
    "\n",
    "df = pd.DataFrame(dict(fpr=fpr_knn, tpr=tpr_knn, thr = thr_knn))\n",
    "\n",
    "plt.axis([0, 1.01, 0, 1.01])\n",
    "plt.xlabel('1 - Specificty')\n",
    "plt.ylabel('TPR / Sensitivity')\n",
    "plt.title('ROC Curve')\n",
    "plt.plot(df['fpr'],df['tpr'])\n",
    "plt.plot(np.arange(0,1, step =0.01), np.arange(0,1, step =0.01))\n",
    "plt.show()"
   ]
  },
  {
   "cell_type": "code",
   "execution_count": 70,
   "id": "1bc503e4",
   "metadata": {},
   "outputs": [
    {
     "name": "stdout",
     "output_type": "stream",
     "text": [
      "AUC= 0.6010912698412699\n"
     ]
    }
   ],
   "source": [
    "from sklearn.metrics import auc\n",
    "print('AUC=', auc(fpr_knn, tpr_knn))"
   ]
  },
  {
   "cell_type": "code",
   "execution_count": 71,
   "id": "1d125dec",
   "metadata": {},
   "outputs": [],
   "source": [
    "# from sklearn.metrics import roc_curve\n",
    "\n",
    "fpr_log_knn,tpr_log_knn,thr_log_knn = roc_curve(y_test, y_pred_knn_proba[:,1])\n",
    "fpr_log_MultinomialNB,tpr_log_MultinomialNB,thr_log_MultinomialNB = roc_curve(y_test, y_pred_MultinomialNB_proba[:,1])\n",
    "fpr_log_GaussianNB,tpr_log_GaussianNB,thr_log_GaussianNB = roc_curve(y_test, y_pred_GaussianNB_proba[:,1])\n",
    "fpr_log_RegLog,tpr_log_RegLog,thr_log_RegLog = roc_curve(y_test, y_pred_RegLog_proba[:,1])\n",
    "fpr_log_RegLogModif,tpr_log_RegLogModif,thr_log_RegLogModif = roc_curve(y_test, y_pred_RegLogModif_proba[:,1])\n",
    "fpr_log_y_pred_03,tpr_log_y_pred_03,thr_log_y_pred_03 = roc_curve(y_test, y_pred_03)\n"
   ]
  },
  {
   "cell_type": "code",
   "execution_count": 72,
   "id": "289b38cb",
   "metadata": {},
   "outputs": [
    {
     "data": {
      "image/png": "[encoded data removed]",
      "text/plain": [
       "<Figure size 432x288 with 1 Axes>"
      ]
     },
     "metadata": {},
     "output_type": "display_data"
    }
   ],
   "source": [
    "df_knn = pd.DataFrame(dict(fpr=fpr_log_knn, tpr=tpr_log_knn, thr = thr_log_knn))\n",
    "plt.plot(df_knn['fpr'],df_knn['tpr'], label='KNN')\n",
    "\n",
    "df_MultinomialNB = pd.DataFrame(dict(fpr=fpr_log_MultinomialNB, tpr=tpr_log_MultinomialNB, thr = thr_log_MultinomialNB))\n",
    "plt.plot(df_MultinomialNB['fpr'],df_MultinomialNB['tpr'], label='MultinomialNB')\n",
    "\n",
    "df_GaussianNB = pd.DataFrame(dict(fpr=fpr_log_GaussianNB, tpr=tpr_log_GaussianNB, thr = thr_log_GaussianNB))\n",
    "plt.plot(df_GaussianNB['fpr'],df_GaussianNB['tpr'], label='GaussianNB')\n",
    "\n",
    "df_RegLog = pd.DataFrame(dict(fpr=fpr_log_RegLog, tpr=tpr_log_RegLog, thr = thr_log_RegLog))\n",
    "plt.plot(df_RegLog['fpr'],df_RegLog['tpr'], label='Reg.Log.')\n",
    "\n",
    "df_RegLogModif = pd.DataFrame(dict(fpr=fpr_log_RegLogModif, tpr=tpr_log_RegLogModif, thr = thr_log_RegLogModif))\n",
    "plt.plot(df_RegLogModif['fpr'],df_RegLogModif['tpr'], label='Reg.Log.Modif.')\n",
    "\n",
    "df_y_pred_03 = pd.DataFrame(dict(fpr=fpr_log_y_pred_03, tpr=tpr_log_y_pred_03, thr = thr_log_y_pred_03))\n",
    "plt.plot(df_y_pred_03['fpr'],df_y_pred_03['tpr'], label='y_pred_03')\n",
    "\n",
    "\n",
    "plt.axis([0, 1.01, 0, 1.01]); plt.legend()\n",
    "plt.xlabel('1 - Specificty'); plt.ylabel('TPR / Sensitivity'); plt.title('ROC Curve')\n",
    "plt.plot(np.arange(0,1, step =0.01), np.arange(0,1, step =0.01))\n",
    "plt.show()"
   ]
  },
  {
   "cell_type": "markdown",
   "id": "6caae10b",
   "metadata": {},
   "source": [
    "#### Análisis del modelo de regresion logística obtenido "
   ]
  },
  {
   "cell_type": "code",
   "execution_count": 73,
   "id": "625f4611",
   "metadata": {},
   "outputs": [
    {
     "data": {
      "text/html": [
       "<div>\n",
       "<style scoped>\n",
       "    .dataframe tbody tr th:only-of-type {\n",
       "        vertical-align: middle;\n",
       "    }\n",
       "\n",
       "    .dataframe tbody tr th {\n",
       "        vertical-align: top;\n",
       "    }\n",
       "\n",
       "    .dataframe thead th {\n",
       "        text-align: right;\n",
       "    }\n",
       "</style>\n",
       "<table border=\"1\" class=\"dataframe\">\n",
       "  <thead>\n",
       "    <tr style=\"text-align: right;\">\n",
       "      <th></th>\n",
       "      <th>name</th>\n",
       "      <th>gp</th>\n",
       "      <th>min</th>\n",
       "      <th>pts</th>\n",
       "      <th>fgm</th>\n",
       "      <th>fga</th>\n",
       "      <th>fg</th>\n",
       "      <th>3p_made</th>\n",
       "      <th>3pa</th>\n",
       "      <th>3p</th>\n",
       "      <th>...</th>\n",
       "      <th>fta</th>\n",
       "      <th>ft</th>\n",
       "      <th>oreb</th>\n",
       "      <th>dreb</th>\n",
       "      <th>reb</th>\n",
       "      <th>ast</th>\n",
       "      <th>stl</th>\n",
       "      <th>blk</th>\n",
       "      <th>tov</th>\n",
       "      <th>target_5yrs</th>\n",
       "    </tr>\n",
       "  </thead>\n",
       "  <tbody>\n",
       "    <tr>\n",
       "      <th>1145</th>\n",
       "      <td>Kelvin Cato</td>\n",
       "      <td>74</td>\n",
       "      <td>13.6</td>\n",
       "      <td>3.8</td>\n",
       "      <td>1.3</td>\n",
       "      <td>3.1</td>\n",
       "      <td>42.8</td>\n",
       "      <td>0.0</td>\n",
       "      <td>0.0</td>\n",
       "      <td>0.0</td>\n",
       "      <td>...</td>\n",
       "      <td>1.7</td>\n",
       "      <td>68.8</td>\n",
       "      <td>1.2</td>\n",
       "      <td>2.2</td>\n",
       "      <td>3.4</td>\n",
       "      <td>0.3</td>\n",
       "      <td>0.4</td>\n",
       "      <td>1.3</td>\n",
       "      <td>0.6</td>\n",
       "      <td>1.0</td>\n",
       "    </tr>\n",
       "    <tr>\n",
       "      <th>987</th>\n",
       "      <td>Ryan Humphrey</td>\n",
       "      <td>48</td>\n",
       "      <td>9.3</td>\n",
       "      <td>1.9</td>\n",
       "      <td>0.7</td>\n",
       "      <td>2.5</td>\n",
       "      <td>29.2</td>\n",
       "      <td>0.0</td>\n",
       "      <td>0.0</td>\n",
       "      <td>0.0</td>\n",
       "      <td>...</td>\n",
       "      <td>0.8</td>\n",
       "      <td>59.0</td>\n",
       "      <td>0.7</td>\n",
       "      <td>1.4</td>\n",
       "      <td>2.1</td>\n",
       "      <td>0.2</td>\n",
       "      <td>0.2</td>\n",
       "      <td>0.4</td>\n",
       "      <td>0.5</td>\n",
       "      <td>0.0</td>\n",
       "    </tr>\n",
       "    <tr>\n",
       "      <th>1051</th>\n",
       "      <td>Isaiah Whitehead</td>\n",
       "      <td>25</td>\n",
       "      <td>22.6</td>\n",
       "      <td>6.7</td>\n",
       "      <td>2.6</td>\n",
       "      <td>6.4</td>\n",
       "      <td>41.3</td>\n",
       "      <td>0.5</td>\n",
       "      <td>1.8</td>\n",
       "      <td>28.3</td>\n",
       "      <td>...</td>\n",
       "      <td>1.2</td>\n",
       "      <td>76.7</td>\n",
       "      <td>0.2</td>\n",
       "      <td>2.0</td>\n",
       "      <td>2.2</td>\n",
       "      <td>3.0</td>\n",
       "      <td>0.7</td>\n",
       "      <td>0.5</td>\n",
       "      <td>2.2</td>\n",
       "      <td>0.0</td>\n",
       "    </tr>\n",
       "    <tr>\n",
       "      <th>779</th>\n",
       "      <td>Al Thornton</td>\n",
       "      <td>79</td>\n",
       "      <td>27.3</td>\n",
       "      <td>12.7</td>\n",
       "      <td>4.7</td>\n",
       "      <td>11.0</td>\n",
       "      <td>42.9</td>\n",
       "      <td>0.5</td>\n",
       "      <td>1.6</td>\n",
       "      <td>33.1</td>\n",
       "      <td>...</td>\n",
       "      <td>3.6</td>\n",
       "      <td>74.3</td>\n",
       "      <td>1.2</td>\n",
       "      <td>3.3</td>\n",
       "      <td>4.5</td>\n",
       "      <td>1.2</td>\n",
       "      <td>0.6</td>\n",
       "      <td>0.5</td>\n",
       "      <td>1.6</td>\n",
       "      <td>0.0</td>\n",
       "    </tr>\n",
       "    <tr>\n",
       "      <th>423</th>\n",
       "      <td>Randy Wittman</td>\n",
       "      <td>78</td>\n",
       "      <td>13.7</td>\n",
       "      <td>4.5</td>\n",
       "      <td>2.1</td>\n",
       "      <td>4.1</td>\n",
       "      <td>50.3</td>\n",
       "      <td>0.0</td>\n",
       "      <td>0.1</td>\n",
       "      <td>40.0</td>\n",
       "      <td>...</td>\n",
       "      <td>0.6</td>\n",
       "      <td>60.9</td>\n",
       "      <td>0.2</td>\n",
       "      <td>0.7</td>\n",
       "      <td>0.9</td>\n",
       "      <td>0.9</td>\n",
       "      <td>0.2</td>\n",
       "      <td>0.0</td>\n",
       "      <td>0.4</td>\n",
       "      <td>1.0</td>\n",
       "    </tr>\n",
       "  </tbody>\n",
       "</table>\n",
       "<p>5 rows × 21 columns</p>\n",
       "</div>"
      ],
      "text/plain": [
       "                  name  gp   min   pts  fgm   fga    fg  3p_made  3pa    3p  \\\n",
       "1145       Kelvin Cato  74  13.6   3.8  1.3   3.1  42.8      0.0  0.0   0.0   \n",
       "987      Ryan Humphrey  48   9.3   1.9  0.7   2.5  29.2      0.0  0.0   0.0   \n",
       "1051  Isaiah Whitehead  25  22.6   6.7  2.6   6.4  41.3      0.5  1.8  28.3   \n",
       "779        Al Thornton  79  27.3  12.7  4.7  11.0  42.9      0.5  1.6  33.1   \n",
       "423      Randy Wittman  78  13.7   4.5  2.1   4.1  50.3      0.0  0.1  40.0   \n",
       "\n",
       "      ...  fta    ft  oreb  dreb  reb  ast  stl  blk  tov  target_5yrs  \n",
       "1145  ...  1.7  68.8   1.2   2.2  3.4  0.3  0.4  1.3  0.6          1.0  \n",
       "987   ...  0.8  59.0   0.7   1.4  2.1  0.2  0.2  0.4  0.5          0.0  \n",
       "1051  ...  1.2  76.7   0.2   2.0  2.2  3.0  0.7  0.5  2.2          0.0  \n",
       "779   ...  3.6  74.3   1.2   3.3  4.5  1.2  0.6  0.5  1.6          0.0  \n",
       "423   ...  0.6  60.9   0.2   0.7  0.9  0.9  0.2  0.0  0.4          1.0  \n",
       "\n",
       "[5 rows x 21 columns]"
      ]
     },
     "execution_count": 73,
     "metadata": {},
     "output_type": "execute_result"
    }
   ],
   "source": [
    "df_10.head()"
   ]
  },
  {
   "cell_type": "code",
   "execution_count": 74,
   "id": "ceb26c4e",
   "metadata": {},
   "outputs": [],
   "source": [
    "X_test_10 = df_10.drop(['target_5yrs','name','fta','dreb','oreb','ftm','3pa','3p_made','fga','fgm'], axis=1)"
   ]
  },
  {
   "cell_type": "code",
   "execution_count": 76,
   "id": "73957756",
   "metadata": {},
   "outputs": [],
   "source": [
    "y_test_10_pred = logistic_regression.predict(X_test_10)"
   ]
  },
  {
   "cell_type": "code",
   "execution_count": 82,
   "id": "9e9007da",
   "metadata": {},
   "outputs": [
    {
     "data": {
      "text/html": [
       "<div>\n",
       "<style scoped>\n",
       "    .dataframe tbody tr th:only-of-type {\n",
       "        vertical-align: middle;\n",
       "    }\n",
       "\n",
       "    .dataframe tbody tr th {\n",
       "        vertical-align: top;\n",
       "    }\n",
       "\n",
       "    .dataframe thead th {\n",
       "        text-align: right;\n",
       "    }\n",
       "</style>\n",
       "<table border=\"1\" class=\"dataframe\">\n",
       "  <thead>\n",
       "    <tr style=\"text-align: right;\">\n",
       "      <th></th>\n",
       "      <th>name</th>\n",
       "      <th>target_5yrs</th>\n",
       "      <th>target pred</th>\n",
       "    </tr>\n",
       "  </thead>\n",
       "  <tbody>\n",
       "    <tr>\n",
       "      <th>0</th>\n",
       "      <td>Kelvin Cato</td>\n",
       "      <td>1.0</td>\n",
       "      <td>1.0</td>\n",
       "    </tr>\n",
       "    <tr>\n",
       "      <th>1</th>\n",
       "      <td>Ryan Humphrey</td>\n",
       "      <td>0.0</td>\n",
       "      <td>0.0</td>\n",
       "    </tr>\n",
       "    <tr>\n",
       "      <th>2</th>\n",
       "      <td>Isaiah Whitehead</td>\n",
       "      <td>0.0</td>\n",
       "      <td>0.0</td>\n",
       "    </tr>\n",
       "    <tr>\n",
       "      <th>3</th>\n",
       "      <td>Al Thornton</td>\n",
       "      <td>0.0</td>\n",
       "      <td>1.0</td>\n",
       "    </tr>\n",
       "    <tr>\n",
       "      <th>4</th>\n",
       "      <td>Randy Wittman</td>\n",
       "      <td>1.0</td>\n",
       "      <td>1.0</td>\n",
       "    </tr>\n",
       "    <tr>\n",
       "      <th>...</th>\n",
       "      <td>...</td>\n",
       "      <td>...</td>\n",
       "      <td>...</td>\n",
       "    </tr>\n",
       "    <tr>\n",
       "      <th>125</th>\n",
       "      <td>Jamie Feick</td>\n",
       "      <td>1.0</td>\n",
       "      <td>1.0</td>\n",
       "    </tr>\n",
       "    <tr>\n",
       "      <th>126</th>\n",
       "      <td>Chris Porter</td>\n",
       "      <td>0.0</td>\n",
       "      <td>0.0</td>\n",
       "    </tr>\n",
       "    <tr>\n",
       "      <th>127</th>\n",
       "      <td>Eddie Johnson</td>\n",
       "      <td>1.0</td>\n",
       "      <td>1.0</td>\n",
       "    </tr>\n",
       "    <tr>\n",
       "      <th>128</th>\n",
       "      <td>Kendall Marshall</td>\n",
       "      <td>0.0</td>\n",
       "      <td>0.0</td>\n",
       "    </tr>\n",
       "    <tr>\n",
       "      <th>129</th>\n",
       "      <td>Willie Anderson</td>\n",
       "      <td>1.0</td>\n",
       "      <td>1.0</td>\n",
       "    </tr>\n",
       "  </tbody>\n",
       "</table>\n",
       "<p>130 rows × 3 columns</p>\n",
       "</div>"
      ],
      "text/plain": [
       "                 name  target_5yrs  target pred\n",
       "0         Kelvin Cato          1.0          1.0\n",
       "1       Ryan Humphrey          0.0          0.0\n",
       "2    Isaiah Whitehead          0.0          0.0\n",
       "3         Al Thornton          0.0          1.0\n",
       "4       Randy Wittman          1.0          1.0\n",
       "..                ...          ...          ...\n",
       "125       Jamie Feick          1.0          1.0\n",
       "126      Chris Porter          0.0          0.0\n",
       "127     Eddie Johnson          1.0          1.0\n",
       "128  Kendall Marshall          0.0          0.0\n",
       "129   Willie Anderson          1.0          1.0\n",
       "\n",
       "[130 rows x 3 columns]"
      ]
     },
     "execution_count": 82,
     "metadata": {},
     "output_type": "execute_result"
    }
   ],
   "source": [
    "cuadro = pd.DataFrame(data=df_10, columns=['name','target_5yrs'])\n",
    "cuadro = cuadro.reset_index(drop=True)\n",
    "cuadro['target pred'] = pd.DataFrame(data =y_test_10_pred)\n",
    "cuadro\n"
   ]
  },
  {
   "cell_type": "code",
   "execution_count": 89,
   "id": "350b33b9",
   "metadata": {},
   "outputs": [],
   "source": [
    "cuadro['real - pred']  = cuadro.apply(lambda x: x['target_5yrs']- x['target pred'], axis=1)"
   ]
  },
  {
   "cell_type": "code",
   "execution_count": 92,
   "id": "ae9e673f",
   "metadata": {},
   "outputs": [
    {
     "data": {
      "text/plain": [
       " 0.0    99\n",
       "-1.0    16\n",
       " 1.0    15\n",
       "Name: real - pred, dtype: int64"
      ]
     },
     "execution_count": 92,
     "metadata": {},
     "output_type": "execute_result"
    }
   ],
   "source": [
    "cuadro['real - pred'].value_counts()"
   ]
  }
 ],
 "metadata": {
  "interpreter": {
   "hash": "f4d212fa16bcc9d683494bacb2f168c8df4c8680a7120abee194db5c267cea94"
  },
  "kernelspec": {
   "display_name": "Python [conda env:dhdsblend2021] *",
   "language": "python",
   "name": "python3"
  },
  "language_info": {
   "codemirror_mode": {
    "name": "ipython",
    "version": 3
   },
   "file_extension": ".py",
   "mimetype": "text/x-python",
   "name": "python",
   "nbconvert_exporter": "python",
   "pygments_lexer": "ipython3",
   "version": "3.8.11"
  }
 },
 "nbformat": 4,
 "nbformat_minor": 5
}
